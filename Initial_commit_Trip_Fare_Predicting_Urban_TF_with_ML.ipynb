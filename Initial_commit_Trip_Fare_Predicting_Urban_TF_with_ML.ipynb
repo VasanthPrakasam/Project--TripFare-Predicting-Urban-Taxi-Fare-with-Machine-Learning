{
 "cells": [
  {
   "cell_type": "code",
   "execution_count": 1,
   "id": "b54641ac",
   "metadata": {
    "_cell_guid": "b1076dfc-b9ad-4769-8c92-a6c4dae69d19",
    "_uuid": "8f2839f25d086af736a60e9eeb907d3b93b6e0e5",
    "execution": {
     "iopub.execute_input": "2025-08-06T12:12:03.766233Z",
     "iopub.status.busy": "2025-08-06T12:12:03.765798Z",
     "iopub.status.idle": "2025-08-06T12:12:05.748510Z",
     "shell.execute_reply": "2025-08-06T12:12:05.747447Z"
    },
    "papermill": {
     "duration": 1.993435,
     "end_time": "2025-08-06T12:12:05.751760",
     "exception": false,
     "start_time": "2025-08-06T12:12:03.758325",
     "status": "completed"
    },
    "tags": []
   },
   "outputs": [
    {
     "name": "stdout",
     "output_type": "stream",
     "text": [
      "/kaggle/input/tripfare-predicting-urban-taxi-fare/taxi_fare.csv\n"
     ]
    }
   ],
   "source": [
    "# This Python 3 environment comes with many helpful analytics libraries installed\n",
    "# It is defined by the kaggle/python Docker image: https://github.com/kaggle/docker-python\n",
    "# For example, here's several helpful packages to load\n",
    "\n",
    "import numpy as np # linear algebra\n",
    "import pandas as pd # data processing, CSV file I/O (e.g. pd.read_csv)\n",
    "\n",
    "# Input data files are available in the read-only \"../input/\" directory\n",
    "# For example, running this (by clicking run or pressing Shift+Enter) will list all files under the input directory\n",
    "\n",
    "import os\n",
    "for dirname, _, filenames in os.walk('/kaggle/input'):\n",
    "    for filename in filenames:\n",
    "        print(os.path.join(dirname, filename))\n",
    "\n",
    "# You can write up to 20GB to the current directory (/kaggle/working/) that gets preserved as output when you create a version using \"Save & Run All\" \n",
    "# You can also write temporary files to /kaggle/temp/, but they won't be saved outside of the current session"
   ]
  },
  {
   "cell_type": "markdown",
   "id": "a60e7fb3",
   "metadata": {
    "papermill": {
     "duration": 0.005696,
     "end_time": "2025-08-06T12:12:05.770234",
     "exception": false,
     "start_time": "2025-08-06T12:12:05.764538",
     "status": "completed"
    },
    "tags": []
   },
   "source": [
    "# Load and clean"
   ]
  },
  {
   "cell_type": "code",
   "execution_count": 2,
   "id": "15a62aef",
   "metadata": {
    "execution": {
     "iopub.execute_input": "2025-08-06T12:12:05.787866Z",
     "iopub.status.busy": "2025-08-06T12:12:05.787260Z",
     "iopub.status.idle": "2025-08-06T12:12:07.008998Z",
     "shell.execute_reply": "2025-08-06T12:12:07.007901Z"
    },
    "papermill": {
     "duration": 1.234386,
     "end_time": "2025-08-06T12:12:07.010624",
     "exception": false,
     "start_time": "2025-08-06T12:12:05.776238",
     "status": "completed"
    },
    "tags": []
   },
   "outputs": [],
   "source": [
    "import pandas as pd \n",
    "data='/kaggle/input/tripfare-predicting-urban-taxi-fare/taxi_fare.csv'\n",
    "# Creating DataFrame\n",
    "df = pd.read_csv(data)"
   ]
  },
  {
   "cell_type": "code",
   "execution_count": 3,
   "id": "4e8808a8",
   "metadata": {
    "execution": {
     "iopub.execute_input": "2025-08-06T12:12:07.022561Z",
     "iopub.status.busy": "2025-08-06T12:12:07.022246Z",
     "iopub.status.idle": "2025-08-06T12:12:07.096193Z",
     "shell.execute_reply": "2025-08-06T12:12:07.094830Z"
    },
    "papermill": {
     "duration": 0.081968,
     "end_time": "2025-08-06T12:12:07.097909",
     "exception": false,
     "start_time": "2025-08-06T12:12:07.015941",
     "status": "completed"
    },
    "tags": []
   },
   "outputs": [
    {
     "name": "stdout",
     "output_type": "stream",
     "text": [
      "<class 'pandas.core.frame.DataFrame'>\n",
      "RangeIndex: 212345 entries, 0 to 212344\n",
      "Data columns (total 18 columns):\n",
      " #   Column                 Non-Null Count   Dtype  \n",
      "---  ------                 --------------   -----  \n",
      " 0   VendorID               212345 non-null  int64  \n",
      " 1   tpep_pickup_datetime   212345 non-null  object \n",
      " 2   tpep_dropoff_datetime  212345 non-null  object \n",
      " 3   passenger_count        212345 non-null  int64  \n",
      " 4   pickup_longitude       212345 non-null  float64\n",
      " 5   pickup_latitude        212345 non-null  float64\n",
      " 6   RatecodeID             212345 non-null  int64  \n",
      " 7   store_and_fwd_flag     212345 non-null  object \n",
      " 8   dropoff_longitude      212345 non-null  float64\n",
      " 9   dropoff_latitude       212345 non-null  float64\n",
      " 10  payment_type           212345 non-null  int64  \n",
      " 11  fare_amount            212345 non-null  float64\n",
      " 12  extra                  212345 non-null  float64\n",
      " 13  mta_tax                212345 non-null  float64\n",
      " 14  tip_amount             212345 non-null  float64\n",
      " 15  tolls_amount           212345 non-null  float64\n",
      " 16  improvement_surcharge  212345 non-null  float64\n",
      " 17  total_amount           212345 non-null  float64\n",
      "dtypes: float64(11), int64(4), object(3)\n",
      "memory usage: 29.2+ MB\n"
     ]
    }
   ],
   "source": [
    "# Let's perform the first steps of EDA: looking at the basic information of the dataset\n",
    "df_info = df.info()\n",
    "df_info"
   ]
  },
  {
   "cell_type": "code",
   "execution_count": 4,
   "id": "f640dcd0",
   "metadata": {
    "execution": {
     "iopub.execute_input": "2025-08-06T12:12:07.110551Z",
     "iopub.status.busy": "2025-08-06T12:12:07.110267Z",
     "iopub.status.idle": "2025-08-06T12:12:07.266782Z",
     "shell.execute_reply": "2025-08-06T12:12:07.265674Z"
    },
    "papermill": {
     "duration": 0.165063,
     "end_time": "2025-08-06T12:12:07.268736",
     "exception": false,
     "start_time": "2025-08-06T12:12:07.103673",
     "status": "completed"
    },
    "tags": []
   },
   "outputs": [
    {
     "name": "stdout",
     "output_type": "stream",
     "text": [
      "📊 BASIC STATISTICS:\n",
      "            VendorID  passenger_count  pickup_longitude  pickup_latitude  \\\n",
      "count  212345.000000    212345.000000     212345.000000    212345.000000   \n",
      "mean        1.708338         1.766493        -73.112122        40.279405   \n",
      "std         0.454529         1.469647          7.936633         4.370714   \n",
      "min         1.000000         0.000000       -121.933327         0.000000   \n",
      "25%         1.000000         1.000000        -73.990891        40.740292   \n",
      "50%         2.000000         1.000000        -73.979469        40.755989   \n",
      "75%         2.000000         2.000000        -73.963295        40.770283   \n",
      "max         2.000000         6.000000          0.000000        42.786934   \n",
      "\n",
      "          RatecodeID  dropoff_longitude  dropoff_latitude   payment_type  \\\n",
      "count  212345.000000      212345.000000     212345.000000  212345.000000   \n",
      "mean        1.034152         -73.144178         40.295648       1.324943   \n",
      "std         0.494699           7.794599          4.293031       0.478255   \n",
      "min         1.000000        -121.933327          0.000000       1.000000   \n",
      "25%         1.000000         -73.990570         40.740089       1.000000   \n",
      "50%         1.000000         -73.978691         40.755508       1.000000   \n",
      "75%         1.000000         -73.964645         40.767475       2.000000   \n",
      "max        99.000000           0.000000         42.786934       4.000000   \n",
      "\n",
      "         fare_amount          extra        mta_tax     tip_amount  \\\n",
      "count  212345.000000  212345.000000  212345.000000  212345.000000   \n",
      "mean       12.665588       0.048077       0.497662       1.809357   \n",
      "std        10.875584       0.148103       0.037436       2.507419   \n",
      "min       -52.000000      -0.500000      -0.500000      -2.700000   \n",
      "25%         6.500000       0.000000       0.500000       0.000000   \n",
      "50%         9.500000       0.000000       0.500000       1.350000   \n",
      "75%        14.500000       0.000000       0.500000       2.360000   \n",
      "max       819.500000       4.500000       0.500000     218.950000   \n",
      "\n",
      "        tolls_amount  improvement_surcharge   total_amount  \n",
      "count  212345.000000          212345.000000  212345.000000  \n",
      "mean        0.329049               0.299637      15.649355  \n",
      "std         2.028199               0.014094      13.592129  \n",
      "min         0.000000              -0.300000     -52.800000  \n",
      "25%         0.000000               0.300000       8.300000  \n",
      "50%         0.000000               0.300000      11.620000  \n",
      "75%         0.000000               0.300000      17.160000  \n",
      "max       661.080000               0.300000     832.800000  \n"
     ]
    }
   ],
   "source": [
    "    # Basic statistics\n",
    "print(\"📊 BASIC STATISTICS:\")\n",
    "print(df.describe())"
   ]
  },
  {
   "cell_type": "code",
   "execution_count": 5,
   "id": "89dd0739",
   "metadata": {
    "execution": {
     "iopub.execute_input": "2025-08-06T12:12:07.281307Z",
     "iopub.status.busy": "2025-08-06T12:12:07.281005Z",
     "iopub.status.idle": "2025-08-06T12:12:07.306346Z",
     "shell.execute_reply": "2025-08-06T12:12:07.305394Z"
    },
    "papermill": {
     "duration": 0.033261,
     "end_time": "2025-08-06T12:12:07.307848",
     "exception": false,
     "start_time": "2025-08-06T12:12:07.274587",
     "status": "completed"
    },
    "tags": []
   },
   "outputs": [
    {
     "data": {
      "text/html": [
       "<div>\n",
       "<style scoped>\n",
       "    .dataframe tbody tr th:only-of-type {\n",
       "        vertical-align: middle;\n",
       "    }\n",
       "\n",
       "    .dataframe tbody tr th {\n",
       "        vertical-align: top;\n",
       "    }\n",
       "\n",
       "    .dataframe thead th {\n",
       "        text-align: right;\n",
       "    }\n",
       "</style>\n",
       "<table border=\"1\" class=\"dataframe\">\n",
       "  <thead>\n",
       "    <tr style=\"text-align: right;\">\n",
       "      <th></th>\n",
       "      <th>VendorID</th>\n",
       "      <th>tpep_pickup_datetime</th>\n",
       "      <th>tpep_dropoff_datetime</th>\n",
       "      <th>passenger_count</th>\n",
       "      <th>pickup_longitude</th>\n",
       "      <th>pickup_latitude</th>\n",
       "      <th>RatecodeID</th>\n",
       "      <th>store_and_fwd_flag</th>\n",
       "      <th>dropoff_longitude</th>\n",
       "      <th>dropoff_latitude</th>\n",
       "      <th>payment_type</th>\n",
       "      <th>fare_amount</th>\n",
       "      <th>extra</th>\n",
       "      <th>mta_tax</th>\n",
       "      <th>tip_amount</th>\n",
       "      <th>tolls_amount</th>\n",
       "      <th>improvement_surcharge</th>\n",
       "      <th>total_amount</th>\n",
       "    </tr>\n",
       "  </thead>\n",
       "  <tbody>\n",
       "    <tr>\n",
       "      <th>0</th>\n",
       "      <td>1</td>\n",
       "      <td>2016-03-01 00:00:00</td>\n",
       "      <td>2016-03-01 00:07:55</td>\n",
       "      <td>1</td>\n",
       "      <td>-73.976746</td>\n",
       "      <td>40.765152</td>\n",
       "      <td>1</td>\n",
       "      <td>N</td>\n",
       "      <td>-74.004265</td>\n",
       "      <td>40.746128</td>\n",
       "      <td>1</td>\n",
       "      <td>9.0</td>\n",
       "      <td>0.5</td>\n",
       "      <td>0.5</td>\n",
       "      <td>2.05</td>\n",
       "      <td>0.00</td>\n",
       "      <td>0.3</td>\n",
       "      <td>12.35</td>\n",
       "    </tr>\n",
       "    <tr>\n",
       "      <th>1</th>\n",
       "      <td>1</td>\n",
       "      <td>2016-03-01 00:00:00</td>\n",
       "      <td>2016-03-01 00:11:06</td>\n",
       "      <td>1</td>\n",
       "      <td>-73.983482</td>\n",
       "      <td>40.767925</td>\n",
       "      <td>1</td>\n",
       "      <td>N</td>\n",
       "      <td>-74.005943</td>\n",
       "      <td>40.733166</td>\n",
       "      <td>1</td>\n",
       "      <td>11.0</td>\n",
       "      <td>0.5</td>\n",
       "      <td>0.5</td>\n",
       "      <td>3.05</td>\n",
       "      <td>0.00</td>\n",
       "      <td>0.3</td>\n",
       "      <td>15.35</td>\n",
       "    </tr>\n",
       "    <tr>\n",
       "      <th>2</th>\n",
       "      <td>2</td>\n",
       "      <td>2016-03-01 00:00:00</td>\n",
       "      <td>2016-03-01 00:31:06</td>\n",
       "      <td>2</td>\n",
       "      <td>-73.782021</td>\n",
       "      <td>40.644810</td>\n",
       "      <td>1</td>\n",
       "      <td>N</td>\n",
       "      <td>-73.974541</td>\n",
       "      <td>40.675770</td>\n",
       "      <td>1</td>\n",
       "      <td>54.5</td>\n",
       "      <td>0.5</td>\n",
       "      <td>0.5</td>\n",
       "      <td>8.00</td>\n",
       "      <td>0.00</td>\n",
       "      <td>0.3</td>\n",
       "      <td>63.80</td>\n",
       "    </tr>\n",
       "    <tr>\n",
       "      <th>3</th>\n",
       "      <td>2</td>\n",
       "      <td>2016-03-01 00:00:00</td>\n",
       "      <td>2016-03-01 00:00:00</td>\n",
       "      <td>3</td>\n",
       "      <td>-73.863419</td>\n",
       "      <td>40.769814</td>\n",
       "      <td>1</td>\n",
       "      <td>N</td>\n",
       "      <td>-73.969650</td>\n",
       "      <td>40.757767</td>\n",
       "      <td>1</td>\n",
       "      <td>31.5</td>\n",
       "      <td>0.0</td>\n",
       "      <td>0.5</td>\n",
       "      <td>3.78</td>\n",
       "      <td>5.54</td>\n",
       "      <td>0.3</td>\n",
       "      <td>41.62</td>\n",
       "    </tr>\n",
       "    <tr>\n",
       "      <th>4</th>\n",
       "      <td>2</td>\n",
       "      <td>2016-03-01 00:00:00</td>\n",
       "      <td>2016-03-01 00:00:00</td>\n",
       "      <td>5</td>\n",
       "      <td>-73.971741</td>\n",
       "      <td>40.792183</td>\n",
       "      <td>3</td>\n",
       "      <td>N</td>\n",
       "      <td>-74.177170</td>\n",
       "      <td>40.695053</td>\n",
       "      <td>1</td>\n",
       "      <td>98.0</td>\n",
       "      <td>0.0</td>\n",
       "      <td>0.0</td>\n",
       "      <td>0.00</td>\n",
       "      <td>15.50</td>\n",
       "      <td>0.3</td>\n",
       "      <td>113.80</td>\n",
       "    </tr>\n",
       "  </tbody>\n",
       "</table>\n",
       "</div>"
      ],
      "text/plain": [
       "   VendorID tpep_pickup_datetime tpep_dropoff_datetime  passenger_count  \\\n",
       "0         1  2016-03-01 00:00:00   2016-03-01 00:07:55                1   \n",
       "1         1  2016-03-01 00:00:00   2016-03-01 00:11:06                1   \n",
       "2         2  2016-03-01 00:00:00   2016-03-01 00:31:06                2   \n",
       "3         2  2016-03-01 00:00:00   2016-03-01 00:00:00                3   \n",
       "4         2  2016-03-01 00:00:00   2016-03-01 00:00:00                5   \n",
       "\n",
       "   pickup_longitude  pickup_latitude  RatecodeID store_and_fwd_flag  \\\n",
       "0        -73.976746        40.765152           1                  N   \n",
       "1        -73.983482        40.767925           1                  N   \n",
       "2        -73.782021        40.644810           1                  N   \n",
       "3        -73.863419        40.769814           1                  N   \n",
       "4        -73.971741        40.792183           3                  N   \n",
       "\n",
       "   dropoff_longitude  dropoff_latitude  payment_type  fare_amount  extra  \\\n",
       "0         -74.004265         40.746128             1          9.0    0.5   \n",
       "1         -74.005943         40.733166             1         11.0    0.5   \n",
       "2         -73.974541         40.675770             1         54.5    0.5   \n",
       "3         -73.969650         40.757767             1         31.5    0.0   \n",
       "4         -74.177170         40.695053             1         98.0    0.0   \n",
       "\n",
       "   mta_tax  tip_amount  tolls_amount  improvement_surcharge  total_amount  \n",
       "0      0.5        2.05          0.00                    0.3         12.35  \n",
       "1      0.5        3.05          0.00                    0.3         15.35  \n",
       "2      0.5        8.00          0.00                    0.3         63.80  \n",
       "3      0.5        3.78          5.54                    0.3         41.62  \n",
       "4      0.0        0.00         15.50                    0.3        113.80  "
      ]
     },
     "execution_count": 5,
     "metadata": {},
     "output_type": "execute_result"
    }
   ],
   "source": [
    "# Displaying first few rows for a quick look\n",
    "df_head = df.head()\n",
    "df_head"
   ]
  },
  {
   "cell_type": "code",
   "execution_count": 6,
   "id": "9842c1b2",
   "metadata": {
    "execution": {
     "iopub.execute_input": "2025-08-06T12:12:07.321853Z",
     "iopub.status.busy": "2025-08-06T12:12:07.321564Z",
     "iopub.status.idle": "2025-08-06T12:12:07.445573Z",
     "shell.execute_reply": "2025-08-06T12:12:07.444697Z"
    },
    "papermill": {
     "duration": 0.13354,
     "end_time": "2025-08-06T12:12:07.447309",
     "exception": false,
     "start_time": "2025-08-06T12:12:07.313769",
     "status": "completed"
    },
    "tags": []
   },
   "outputs": [],
   "source": [
    "# Converting pickup and dropoff datetime columns to proper datetime format\n",
    "df['tpep_pickup_datetime'] = pd.to_datetime(df['tpep_pickup_datetime'])\n",
    "df['tpep_dropoff_datetime'] = pd.to_datetime(df['tpep_dropoff_datetime'])"
   ]
  },
  {
   "cell_type": "code",
   "execution_count": 7,
   "id": "3292bbd9",
   "metadata": {
    "execution": {
     "iopub.execute_input": "2025-08-06T12:12:07.460383Z",
     "iopub.status.busy": "2025-08-06T12:12:07.460030Z",
     "iopub.status.idle": "2025-08-06T12:12:07.492894Z",
     "shell.execute_reply": "2025-08-06T12:12:07.491660Z"
    },
    "papermill": {
     "duration": 0.041419,
     "end_time": "2025-08-06T12:12:07.494564",
     "exception": false,
     "start_time": "2025-08-06T12:12:07.453145",
     "status": "completed"
    },
    "tags": []
   },
   "outputs": [
    {
     "name": "stdout",
     "output_type": "stream",
     "text": [
      "<class 'pandas.core.frame.DataFrame'>\n",
      "RangeIndex: 212345 entries, 0 to 212344\n",
      "Data columns (total 18 columns):\n",
      " #   Column                 Non-Null Count   Dtype         \n",
      "---  ------                 --------------   -----         \n",
      " 0   VendorID               212345 non-null  int64         \n",
      " 1   tpep_pickup_datetime   212345 non-null  datetime64[ns]\n",
      " 2   tpep_dropoff_datetime  212345 non-null  datetime64[ns]\n",
      " 3   passenger_count        212345 non-null  int64         \n",
      " 4   pickup_longitude       212345 non-null  float64       \n",
      " 5   pickup_latitude        212345 non-null  float64       \n",
      " 6   RatecodeID             212345 non-null  int64         \n",
      " 7   store_and_fwd_flag     212345 non-null  object        \n",
      " 8   dropoff_longitude      212345 non-null  float64       \n",
      " 9   dropoff_latitude       212345 non-null  float64       \n",
      " 10  payment_type           212345 non-null  int64         \n",
      " 11  fare_amount            212345 non-null  float64       \n",
      " 12  extra                  212345 non-null  float64       \n",
      " 13  mta_tax                212345 non-null  float64       \n",
      " 14  tip_amount             212345 non-null  float64       \n",
      " 15  tolls_amount           212345 non-null  float64       \n",
      " 16  improvement_surcharge  212345 non-null  float64       \n",
      " 17  total_amount           212345 non-null  float64       \n",
      "dtypes: datetime64[ns](2), float64(11), int64(4), object(1)\n",
      "memory usage: 29.2+ MB\n"
     ]
    }
   ],
   "source": [
    "df.info()"
   ]
  },
  {
   "cell_type": "code",
   "execution_count": 8,
   "id": "527100d1",
   "metadata": {
    "execution": {
     "iopub.execute_input": "2025-08-06T12:12:07.507843Z",
     "iopub.status.busy": "2025-08-06T12:12:07.507485Z",
     "iopub.status.idle": "2025-08-06T12:12:07.517930Z",
     "shell.execute_reply": "2025-08-06T12:12:07.516980Z"
    },
    "papermill": {
     "duration": 0.019059,
     "end_time": "2025-08-06T12:12:07.519674",
     "exception": false,
     "start_time": "2025-08-06T12:12:07.500615",
     "status": "completed"
    },
    "tags": []
   },
   "outputs": [],
   "source": [
    "# Calculating trip duration in minutes\n",
    "df['trip_duration'] = (df['tpep_dropoff_datetime'] - df['tpep_pickup_datetime']).dt.total_seconds() / 60"
   ]
  },
  {
   "cell_type": "code",
   "execution_count": 9,
   "id": "476e6c57",
   "metadata": {
    "execution": {
     "iopub.execute_input": "2025-08-06T12:12:07.533020Z",
     "iopub.status.busy": "2025-08-06T12:12:07.532283Z",
     "iopub.status.idle": "2025-08-06T12:12:07.545986Z",
     "shell.execute_reply": "2025-08-06T12:12:07.545003Z"
    },
    "papermill": {
     "duration": 0.021955,
     "end_time": "2025-08-06T12:12:07.547555",
     "exception": false,
     "start_time": "2025-08-06T12:12:07.525600",
     "status": "completed"
    },
    "tags": []
   },
   "outputs": [
    {
     "data": {
      "text/html": [
       "<div>\n",
       "<style scoped>\n",
       "    .dataframe tbody tr th:only-of-type {\n",
       "        vertical-align: middle;\n",
       "    }\n",
       "\n",
       "    .dataframe tbody tr th {\n",
       "        vertical-align: top;\n",
       "    }\n",
       "\n",
       "    .dataframe thead th {\n",
       "        text-align: right;\n",
       "    }\n",
       "</style>\n",
       "<table border=\"1\" class=\"dataframe\">\n",
       "  <thead>\n",
       "    <tr style=\"text-align: right;\">\n",
       "      <th></th>\n",
       "      <th>tpep_pickup_datetime</th>\n",
       "      <th>tpep_dropoff_datetime</th>\n",
       "      <th>trip_duration</th>\n",
       "    </tr>\n",
       "  </thead>\n",
       "  <tbody>\n",
       "    <tr>\n",
       "      <th>0</th>\n",
       "      <td>2016-03-01</td>\n",
       "      <td>2016-03-01 00:07:55</td>\n",
       "      <td>7.916667</td>\n",
       "    </tr>\n",
       "    <tr>\n",
       "      <th>1</th>\n",
       "      <td>2016-03-01</td>\n",
       "      <td>2016-03-01 00:11:06</td>\n",
       "      <td>11.100000</td>\n",
       "    </tr>\n",
       "    <tr>\n",
       "      <th>2</th>\n",
       "      <td>2016-03-01</td>\n",
       "      <td>2016-03-01 00:31:06</td>\n",
       "      <td>31.100000</td>\n",
       "    </tr>\n",
       "    <tr>\n",
       "      <th>3</th>\n",
       "      <td>2016-03-01</td>\n",
       "      <td>2016-03-01 00:00:00</td>\n",
       "      <td>0.000000</td>\n",
       "    </tr>\n",
       "    <tr>\n",
       "      <th>4</th>\n",
       "      <td>2016-03-01</td>\n",
       "      <td>2016-03-01 00:00:00</td>\n",
       "      <td>0.000000</td>\n",
       "    </tr>\n",
       "  </tbody>\n",
       "</table>\n",
       "</div>"
      ],
      "text/plain": [
       "  tpep_pickup_datetime tpep_dropoff_datetime  trip_duration\n",
       "0           2016-03-01   2016-03-01 00:07:55       7.916667\n",
       "1           2016-03-01   2016-03-01 00:11:06      11.100000\n",
       "2           2016-03-01   2016-03-01 00:31:06      31.100000\n",
       "3           2016-03-01   2016-03-01 00:00:00       0.000000\n",
       "4           2016-03-01   2016-03-01 00:00:00       0.000000"
      ]
     },
     "execution_count": 9,
     "metadata": {},
     "output_type": "execute_result"
    }
   ],
   "source": [
    "# Displaying the first few rows to check the conversion and the new column\n",
    "df[['tpep_pickup_datetime', 'tpep_dropoff_datetime', 'trip_duration']].head()"
   ]
  },
  {
   "cell_type": "code",
   "execution_count": 10,
   "id": "beb4d74a",
   "metadata": {
    "execution": {
     "iopub.execute_input": "2025-08-06T12:12:07.560958Z",
     "iopub.status.busy": "2025-08-06T12:12:07.560623Z",
     "iopub.status.idle": "2025-08-06T12:12:07.566100Z",
     "shell.execute_reply": "2025-08-06T12:12:07.565194Z"
    },
    "papermill": {
     "duration": 0.014032,
     "end_time": "2025-08-06T12:12:07.567613",
     "exception": false,
     "start_time": "2025-08-06T12:12:07.553581",
     "status": "completed"
    },
    "tags": []
   },
   "outputs": [
    {
     "name": "stdout",
     "output_type": "stream",
     "text": [
      "Columns: ['VendorID', 'tpep_pickup_datetime', 'tpep_dropoff_datetime', 'passenger_count', 'pickup_longitude', 'pickup_latitude', 'RatecodeID', 'store_and_fwd_flag', 'dropoff_longitude', 'dropoff_latitude', 'payment_type', 'fare_amount', 'extra', 'mta_tax', 'tip_amount', 'tolls_amount', 'improvement_surcharge', 'total_amount', 'trip_duration']\n"
     ]
    }
   ],
   "source": [
    "print(f\"Columns: {list(df.columns)}\")"
   ]
  },
  {
   "cell_type": "code",
   "execution_count": 11,
   "id": "726c9b09",
   "metadata": {
    "execution": {
     "iopub.execute_input": "2025-08-06T12:12:07.582891Z",
     "iopub.status.busy": "2025-08-06T12:12:07.582546Z",
     "iopub.status.idle": "2025-08-06T12:12:07.589720Z",
     "shell.execute_reply": "2025-08-06T12:12:07.588704Z"
    },
    "papermill": {
     "duration": 0.015812,
     "end_time": "2025-08-06T12:12:07.591189",
     "exception": false,
     "start_time": "2025-08-06T12:12:07.575377",
     "status": "completed"
    },
    "tags": []
   },
   "outputs": [
    {
     "name": "stdout",
     "output_type": "stream",
     "text": [
      "🔍 DATA TYPES:\n",
      "VendorID                          int64\n",
      "tpep_pickup_datetime     datetime64[ns]\n",
      "tpep_dropoff_datetime    datetime64[ns]\n",
      "passenger_count                   int64\n",
      "pickup_longitude                float64\n",
      "pickup_latitude                 float64\n",
      "RatecodeID                        int64\n",
      "store_and_fwd_flag               object\n",
      "dropoff_longitude               float64\n",
      "dropoff_latitude                float64\n",
      "payment_type                      int64\n",
      "fare_amount                     float64\n",
      "extra                           float64\n",
      "mta_tax                         float64\n",
      "tip_amount                      float64\n",
      "tolls_amount                    float64\n",
      "improvement_surcharge           float64\n",
      "total_amount                    float64\n",
      "trip_duration                   float64\n",
      "dtype: object\n"
     ]
    }
   ],
   "source": [
    "# Data types\n",
    "print(\"🔍 DATA TYPES:\")\n",
    "print(df.dtypes)"
   ]
  },
  {
   "cell_type": "code",
   "execution_count": 12,
   "id": "18d793c4",
   "metadata": {
    "execution": {
     "iopub.execute_input": "2025-08-06T12:12:07.605052Z",
     "iopub.status.busy": "2025-08-06T12:12:07.604355Z",
     "iopub.status.idle": "2025-08-06T12:12:07.685711Z",
     "shell.execute_reply": "2025-08-06T12:12:07.684735Z"
    },
    "papermill": {
     "duration": 0.090176,
     "end_time": "2025-08-06T12:12:07.687595",
     "exception": false,
     "start_time": "2025-08-06T12:12:07.597419",
     "status": "completed"
    },
    "tags": []
   },
   "outputs": [],
   "source": [
    "# Pickup time features\n",
    "df['pickup_year'] = df['tpep_pickup_datetime'].dt.year\n",
    "df['pickup_month'] = df['tpep_pickup_datetime'].dt.month\n",
    "df['pickup_day'] = df['tpep_pickup_datetime'].dt.day_name()\n",
    "df['pickup_hour'] = df['tpep_pickup_datetime'].dt.hour"
   ]
  },
  {
   "cell_type": "code",
   "execution_count": 13,
   "id": "3f048073",
   "metadata": {
    "execution": {
     "iopub.execute_input": "2025-08-06T12:12:07.701225Z",
     "iopub.status.busy": "2025-08-06T12:12:07.700728Z",
     "iopub.status.idle": "2025-08-06T12:12:07.784705Z",
     "shell.execute_reply": "2025-08-06T12:12:07.783967Z"
    },
    "papermill": {
     "duration": 0.092747,
     "end_time": "2025-08-06T12:12:07.786460",
     "exception": false,
     "start_time": "2025-08-06T12:12:07.693713",
     "status": "completed"
    },
    "tags": []
   },
   "outputs": [],
   "source": [
    "df['dropoff_year'] = df['tpep_dropoff_datetime'].dt.year\n",
    "df['dropoff_month'] = df['tpep_dropoff_datetime'].dt.month\n",
    "df['dropoff_day'] = df['tpep_dropoff_datetime'].dt.day_name()\n",
    "df['dropoff_hour'] = df['tpep_dropoff_datetime'].dt.hour"
   ]
  },
  {
   "cell_type": "code",
   "execution_count": 14,
   "id": "5b839ff5",
   "metadata": {
    "execution": {
     "iopub.execute_input": "2025-08-06T12:12:07.799636Z",
     "iopub.status.busy": "2025-08-06T12:12:07.799337Z",
     "iopub.status.idle": "2025-08-06T12:12:07.822530Z",
     "shell.execute_reply": "2025-08-06T12:12:07.821583Z"
    },
    "papermill": {
     "duration": 0.031751,
     "end_time": "2025-08-06T12:12:07.824274",
     "exception": false,
     "start_time": "2025-08-06T12:12:07.792523",
     "status": "completed"
    },
    "tags": []
   },
   "outputs": [
    {
     "data": {
      "text/html": [
       "<div>\n",
       "<style scoped>\n",
       "    .dataframe tbody tr th:only-of-type {\n",
       "        vertical-align: middle;\n",
       "    }\n",
       "\n",
       "    .dataframe tbody tr th {\n",
       "        vertical-align: top;\n",
       "    }\n",
       "\n",
       "    .dataframe thead th {\n",
       "        text-align: right;\n",
       "    }\n",
       "</style>\n",
       "<table border=\"1\" class=\"dataframe\">\n",
       "  <thead>\n",
       "    <tr style=\"text-align: right;\">\n",
       "      <th></th>\n",
       "      <th>VendorID</th>\n",
       "      <th>tpep_pickup_datetime</th>\n",
       "      <th>tpep_dropoff_datetime</th>\n",
       "      <th>passenger_count</th>\n",
       "      <th>pickup_longitude</th>\n",
       "      <th>pickup_latitude</th>\n",
       "      <th>RatecodeID</th>\n",
       "      <th>store_and_fwd_flag</th>\n",
       "      <th>dropoff_longitude</th>\n",
       "      <th>dropoff_latitude</th>\n",
       "      <th>...</th>\n",
       "      <th>total_amount</th>\n",
       "      <th>trip_duration</th>\n",
       "      <th>pickup_year</th>\n",
       "      <th>pickup_month</th>\n",
       "      <th>pickup_day</th>\n",
       "      <th>pickup_hour</th>\n",
       "      <th>dropoff_year</th>\n",
       "      <th>dropoff_month</th>\n",
       "      <th>dropoff_day</th>\n",
       "      <th>dropoff_hour</th>\n",
       "    </tr>\n",
       "  </thead>\n",
       "  <tbody>\n",
       "    <tr>\n",
       "      <th>0</th>\n",
       "      <td>1</td>\n",
       "      <td>2016-03-01</td>\n",
       "      <td>2016-03-01 00:07:55</td>\n",
       "      <td>1</td>\n",
       "      <td>-73.976746</td>\n",
       "      <td>40.765152</td>\n",
       "      <td>1</td>\n",
       "      <td>N</td>\n",
       "      <td>-74.004265</td>\n",
       "      <td>40.746128</td>\n",
       "      <td>...</td>\n",
       "      <td>12.35</td>\n",
       "      <td>7.916667</td>\n",
       "      <td>2016</td>\n",
       "      <td>3</td>\n",
       "      <td>Tuesday</td>\n",
       "      <td>0</td>\n",
       "      <td>2016</td>\n",
       "      <td>3</td>\n",
       "      <td>Tuesday</td>\n",
       "      <td>0</td>\n",
       "    </tr>\n",
       "    <tr>\n",
       "      <th>1</th>\n",
       "      <td>1</td>\n",
       "      <td>2016-03-01</td>\n",
       "      <td>2016-03-01 00:11:06</td>\n",
       "      <td>1</td>\n",
       "      <td>-73.983482</td>\n",
       "      <td>40.767925</td>\n",
       "      <td>1</td>\n",
       "      <td>N</td>\n",
       "      <td>-74.005943</td>\n",
       "      <td>40.733166</td>\n",
       "      <td>...</td>\n",
       "      <td>15.35</td>\n",
       "      <td>11.100000</td>\n",
       "      <td>2016</td>\n",
       "      <td>3</td>\n",
       "      <td>Tuesday</td>\n",
       "      <td>0</td>\n",
       "      <td>2016</td>\n",
       "      <td>3</td>\n",
       "      <td>Tuesday</td>\n",
       "      <td>0</td>\n",
       "    </tr>\n",
       "    <tr>\n",
       "      <th>2</th>\n",
       "      <td>2</td>\n",
       "      <td>2016-03-01</td>\n",
       "      <td>2016-03-01 00:31:06</td>\n",
       "      <td>2</td>\n",
       "      <td>-73.782021</td>\n",
       "      <td>40.644810</td>\n",
       "      <td>1</td>\n",
       "      <td>N</td>\n",
       "      <td>-73.974541</td>\n",
       "      <td>40.675770</td>\n",
       "      <td>...</td>\n",
       "      <td>63.80</td>\n",
       "      <td>31.100000</td>\n",
       "      <td>2016</td>\n",
       "      <td>3</td>\n",
       "      <td>Tuesday</td>\n",
       "      <td>0</td>\n",
       "      <td>2016</td>\n",
       "      <td>3</td>\n",
       "      <td>Tuesday</td>\n",
       "      <td>0</td>\n",
       "    </tr>\n",
       "    <tr>\n",
       "      <th>3</th>\n",
       "      <td>2</td>\n",
       "      <td>2016-03-01</td>\n",
       "      <td>2016-03-01 00:00:00</td>\n",
       "      <td>3</td>\n",
       "      <td>-73.863419</td>\n",
       "      <td>40.769814</td>\n",
       "      <td>1</td>\n",
       "      <td>N</td>\n",
       "      <td>-73.969650</td>\n",
       "      <td>40.757767</td>\n",
       "      <td>...</td>\n",
       "      <td>41.62</td>\n",
       "      <td>0.000000</td>\n",
       "      <td>2016</td>\n",
       "      <td>3</td>\n",
       "      <td>Tuesday</td>\n",
       "      <td>0</td>\n",
       "      <td>2016</td>\n",
       "      <td>3</td>\n",
       "      <td>Tuesday</td>\n",
       "      <td>0</td>\n",
       "    </tr>\n",
       "    <tr>\n",
       "      <th>4</th>\n",
       "      <td>2</td>\n",
       "      <td>2016-03-01</td>\n",
       "      <td>2016-03-01 00:00:00</td>\n",
       "      <td>5</td>\n",
       "      <td>-73.971741</td>\n",
       "      <td>40.792183</td>\n",
       "      <td>3</td>\n",
       "      <td>N</td>\n",
       "      <td>-74.177170</td>\n",
       "      <td>40.695053</td>\n",
       "      <td>...</td>\n",
       "      <td>113.80</td>\n",
       "      <td>0.000000</td>\n",
       "      <td>2016</td>\n",
       "      <td>3</td>\n",
       "      <td>Tuesday</td>\n",
       "      <td>0</td>\n",
       "      <td>2016</td>\n",
       "      <td>3</td>\n",
       "      <td>Tuesday</td>\n",
       "      <td>0</td>\n",
       "    </tr>\n",
       "  </tbody>\n",
       "</table>\n",
       "<p>5 rows × 27 columns</p>\n",
       "</div>"
      ],
      "text/plain": [
       "   VendorID tpep_pickup_datetime tpep_dropoff_datetime  passenger_count  \\\n",
       "0         1           2016-03-01   2016-03-01 00:07:55                1   \n",
       "1         1           2016-03-01   2016-03-01 00:11:06                1   \n",
       "2         2           2016-03-01   2016-03-01 00:31:06                2   \n",
       "3         2           2016-03-01   2016-03-01 00:00:00                3   \n",
       "4         2           2016-03-01   2016-03-01 00:00:00                5   \n",
       "\n",
       "   pickup_longitude  pickup_latitude  RatecodeID store_and_fwd_flag  \\\n",
       "0        -73.976746        40.765152           1                  N   \n",
       "1        -73.983482        40.767925           1                  N   \n",
       "2        -73.782021        40.644810           1                  N   \n",
       "3        -73.863419        40.769814           1                  N   \n",
       "4        -73.971741        40.792183           3                  N   \n",
       "\n",
       "   dropoff_longitude  dropoff_latitude  ...  total_amount  trip_duration  \\\n",
       "0         -74.004265         40.746128  ...         12.35       7.916667   \n",
       "1         -74.005943         40.733166  ...         15.35      11.100000   \n",
       "2         -73.974541         40.675770  ...         63.80      31.100000   \n",
       "3         -73.969650         40.757767  ...         41.62       0.000000   \n",
       "4         -74.177170         40.695053  ...        113.80       0.000000   \n",
       "\n",
       "   pickup_year  pickup_month  pickup_day  pickup_hour  dropoff_year  \\\n",
       "0         2016             3     Tuesday            0          2016   \n",
       "1         2016             3     Tuesday            0          2016   \n",
       "2         2016             3     Tuesday            0          2016   \n",
       "3         2016             3     Tuesday            0          2016   \n",
       "4         2016             3     Tuesday            0          2016   \n",
       "\n",
       "   dropoff_month  dropoff_day  dropoff_hour  \n",
       "0              3      Tuesday             0  \n",
       "1              3      Tuesday             0  \n",
       "2              3      Tuesday             0  \n",
       "3              3      Tuesday             0  \n",
       "4              3      Tuesday             0  \n",
       "\n",
       "[5 rows x 27 columns]"
      ]
     },
     "execution_count": 14,
     "metadata": {},
     "output_type": "execute_result"
    }
   ],
   "source": [
    "df.head()"
   ]
  },
  {
   "cell_type": "code",
   "execution_count": 15,
   "id": "27fa9d81",
   "metadata": {
    "execution": {
     "iopub.execute_input": "2025-08-06T12:12:07.838267Z",
     "iopub.status.busy": "2025-08-06T12:12:07.837976Z",
     "iopub.status.idle": "2025-08-06T12:12:07.843665Z",
     "shell.execute_reply": "2025-08-06T12:12:07.842946Z"
    },
    "papermill": {
     "duration": 0.01435,
     "end_time": "2025-08-06T12:12:07.845179",
     "exception": false,
     "start_time": "2025-08-06T12:12:07.830829",
     "status": "completed"
    },
    "tags": []
   },
   "outputs": [
    {
     "data": {
      "text/plain": [
       "Index(['VendorID', 'tpep_pickup_datetime', 'tpep_dropoff_datetime',\n",
       "       'passenger_count', 'pickup_longitude', 'pickup_latitude', 'RatecodeID',\n",
       "       'store_and_fwd_flag', 'dropoff_longitude', 'dropoff_latitude',\n",
       "       'payment_type', 'fare_amount', 'extra', 'mta_tax', 'tip_amount',\n",
       "       'tolls_amount', 'improvement_surcharge', 'total_amount',\n",
       "       'trip_duration', 'pickup_year', 'pickup_month', 'pickup_day',\n",
       "       'pickup_hour', 'dropoff_year', 'dropoff_month', 'dropoff_day',\n",
       "       'dropoff_hour'],\n",
       "      dtype='object')"
      ]
     },
     "execution_count": 15,
     "metadata": {},
     "output_type": "execute_result"
    }
   ],
   "source": [
    "df.columns"
   ]
  },
  {
   "cell_type": "code",
   "execution_count": 16,
   "id": "53003f31",
   "metadata": {
    "execution": {
     "iopub.execute_input": "2025-08-06T12:12:07.859463Z",
     "iopub.status.busy": "2025-08-06T12:12:07.859193Z",
     "iopub.status.idle": "2025-08-06T12:12:07.863242Z",
     "shell.execute_reply": "2025-08-06T12:12:07.862400Z"
    },
    "papermill": {
     "duration": 0.013083,
     "end_time": "2025-08-06T12:12:07.864756",
     "exception": false,
     "start_time": "2025-08-06T12:12:07.851673",
     "status": "completed"
    },
    "tags": []
   },
   "outputs": [],
   "source": [
    "# Weekend indicator\n",
    "# df['is_weekend'] = (df['pickup_weekday'] >= 5).astype(int)\n",
    "# This is will not work as the given the has been filtered only for tuesday and thursday which falls in weekdays."
   ]
  },
  {
   "cell_type": "code",
   "execution_count": 17,
   "id": "84f6610d",
   "metadata": {
    "execution": {
     "iopub.execute_input": "2025-08-06T12:12:07.878539Z",
     "iopub.status.busy": "2025-08-06T12:12:07.878281Z",
     "iopub.status.idle": "2025-08-06T12:12:07.885770Z",
     "shell.execute_reply": "2025-08-06T12:12:07.884952Z"
    },
    "papermill": {
     "duration": 0.016212,
     "end_time": "2025-08-06T12:12:07.887387",
     "exception": false,
     "start_time": "2025-08-06T12:12:07.871175",
     "status": "completed"
    },
    "tags": []
   },
   "outputs": [],
   "source": [
    "# AM/PM indicator\n",
    "df['is_pm'] = (df['pickup_hour'] >= 12).astype(int)\n",
    "df['is_pm'] = (df['dropoff_hour'] >= 12).astype(int)"
   ]
  },
  {
   "cell_type": "code",
   "execution_count": 18,
   "id": "99d735c4",
   "metadata": {
    "execution": {
     "iopub.execute_input": "2025-08-06T12:12:07.901451Z",
     "iopub.status.busy": "2025-08-06T12:12:07.901184Z",
     "iopub.status.idle": "2025-08-06T12:12:07.910109Z",
     "shell.execute_reply": "2025-08-06T12:12:07.909181Z"
    },
    "papermill": {
     "duration": 0.017731,
     "end_time": "2025-08-06T12:12:07.911635",
     "exception": false,
     "start_time": "2025-08-06T12:12:07.893904",
     "status": "completed"
    },
    "tags": []
   },
   "outputs": [],
   "source": [
    "# Night ride indicator (10 PM to 6 AM)\n",
    "df['is_night'] = ((df['pickup_hour'] >= 22) | (df['pickup_hour'] <= 6)).astype(int)\n",
    "df['is_night'] = ((df['dropoff_hour'] >= 22) | (df['dropoff_hour'] <= 6)).astype(int)"
   ]
  },
  {
   "cell_type": "code",
   "execution_count": 19,
   "id": "450095c1",
   "metadata": {
    "execution": {
     "iopub.execute_input": "2025-08-06T12:12:07.925593Z",
     "iopub.status.busy": "2025-08-06T12:12:07.925329Z",
     "iopub.status.idle": "2025-08-06T12:12:07.937769Z",
     "shell.execute_reply": "2025-08-06T12:12:07.936847Z"
    },
    "papermill": {
     "duration": 0.021463,
     "end_time": "2025-08-06T12:12:07.939530",
     "exception": false,
     "start_time": "2025-08-06T12:12:07.918067",
     "status": "completed"
    },
    "tags": []
   },
   "outputs": [],
   "source": [
    "# Rush hour indicators\n",
    "df['is_morning_rush'] = ((df['pickup_hour'] >= 7) & (df['pickup_hour'] <= 9)).astype(int)\n",
    "df['is_evening_rush'] = ((df['pickup_hour'] >= 17) & (df['pickup_hour'] <= 19)).astype(int)\n",
    "df['is_morning_rush'] = ((df['dropoff_hour'] >= 7) & (df['dropoff_hour'] <= 9)).astype(int)\n",
    "df['is_evening_rush'] = ((df['dropoff_hour'] >= 17) & (df['dropoff_hour'] <= 19)).astype(int)"
   ]
  },
  {
   "cell_type": "code",
   "execution_count": 20,
   "id": "8ef435fe",
   "metadata": {
    "execution": {
     "iopub.execute_input": "2025-08-06T12:12:07.953529Z",
     "iopub.status.busy": "2025-08-06T12:12:07.953232Z",
     "iopub.status.idle": "2025-08-06T12:12:07.958903Z",
     "shell.execute_reply": "2025-08-06T12:12:07.958084Z"
    },
    "papermill": {
     "duration": 0.014309,
     "end_time": "2025-08-06T12:12:07.960326",
     "exception": false,
     "start_time": "2025-08-06T12:12:07.946017",
     "status": "completed"
    },
    "tags": []
   },
   "outputs": [
    {
     "data": {
      "text/plain": [
       "Index(['VendorID', 'tpep_pickup_datetime', 'tpep_dropoff_datetime',\n",
       "       'passenger_count', 'pickup_longitude', 'pickup_latitude', 'RatecodeID',\n",
       "       'store_and_fwd_flag', 'dropoff_longitude', 'dropoff_latitude',\n",
       "       'payment_type', 'fare_amount', 'extra', 'mta_tax', 'tip_amount',\n",
       "       'tolls_amount', 'improvement_surcharge', 'total_amount',\n",
       "       'trip_duration', 'pickup_year', 'pickup_month', 'pickup_day',\n",
       "       'pickup_hour', 'dropoff_year', 'dropoff_month', 'dropoff_day',\n",
       "       'dropoff_hour', 'is_pm', 'is_night', 'is_morning_rush',\n",
       "       'is_evening_rush'],\n",
       "      dtype='object')"
      ]
     },
     "execution_count": 20,
     "metadata": {},
     "output_type": "execute_result"
    }
   ],
   "source": [
    "df.columns"
   ]
  },
  {
   "cell_type": "code",
   "execution_count": 21,
   "id": "604a44cf",
   "metadata": {
    "execution": {
     "iopub.execute_input": "2025-08-06T12:12:07.974957Z",
     "iopub.status.busy": "2025-08-06T12:12:07.974623Z",
     "iopub.status.idle": "2025-08-06T12:12:07.978577Z",
     "shell.execute_reply": "2025-08-06T12:12:07.977721Z"
    },
    "papermill": {
     "duration": 0.013382,
     "end_time": "2025-08-06T12:12:07.980383",
     "exception": false,
     "start_time": "2025-08-06T12:12:07.967001",
     "status": "completed"
    },
    "tags": []
   },
   "outputs": [],
   "source": [
    "# Fare per mile and fare per minute\n",
    "# df['fare_per_mile'] = df['fare_amount'] / (df['trip_distance_calculated'] + 1e-8)\n",
    "# df['fare_per_minute'] = df['fare_amount'] / (df['trip_duration_minutes'] + 1e-8)"
   ]
  },
  {
   "cell_type": "code",
   "execution_count": 22,
   "id": "e4f93dd6",
   "metadata": {
    "execution": {
     "iopub.execute_input": "2025-08-06T12:12:07.995380Z",
     "iopub.status.busy": "2025-08-06T12:12:07.995082Z",
     "iopub.status.idle": "2025-08-06T12:12:07.999022Z",
     "shell.execute_reply": "2025-08-06T12:12:07.998200Z"
    },
    "papermill": {
     "duration": 0.013531,
     "end_time": "2025-08-06T12:12:08.000633",
     "exception": false,
     "start_time": "2025-08-06T12:12:07.987102",
     "status": "completed"
    },
    "tags": []
   },
   "outputs": [],
   "source": [
    "# Speed (miles per hour)\n",
    "# df['speed_mph'] = (df['trip_distance_calculated'] * 60) / (df['trip_duration_minutes'] + 1e-8)"
   ]
  },
  {
   "cell_type": "code",
   "execution_count": 23,
   "id": "46d19d1a",
   "metadata": {
    "execution": {
     "iopub.execute_input": "2025-08-06T12:12:08.015055Z",
     "iopub.status.busy": "2025-08-06T12:12:08.014711Z",
     "iopub.status.idle": "2025-08-06T12:12:08.019122Z",
     "shell.execute_reply": "2025-08-06T12:12:08.018159Z"
    },
    "papermill": {
     "duration": 0.013594,
     "end_time": "2025-08-06T12:12:08.020948",
     "exception": false,
     "start_time": "2025-08-06T12:12:08.007354",
     "status": "completed"
    },
    "tags": []
   },
   "outputs": [],
   "source": [
    "# df.drop['tpep_pickup_datetime', 'tpep_dropoff_datetime','fare_amount', 'extra', 'mta_tax', 'tip_amount','tolls_amount', 'improvement_surcharge']"
   ]
  },
  {
   "cell_type": "code",
   "execution_count": 24,
   "id": "dbcdffe6",
   "metadata": {
    "execution": {
     "iopub.execute_input": "2025-08-06T12:12:08.036217Z",
     "iopub.status.busy": "2025-08-06T12:12:08.035923Z",
     "iopub.status.idle": "2025-08-06T12:12:08.040102Z",
     "shell.execute_reply": "2025-08-06T12:12:08.039175Z"
    },
    "papermill": {
     "duration": 0.01337,
     "end_time": "2025-08-06T12:12:08.041785",
     "exception": false,
     "start_time": "2025-08-06T12:12:08.028415",
     "status": "completed"
    },
    "tags": []
   },
   "outputs": [],
   "source": [
    "# Passenger density feature\n",
    "# df['fare_per_passenger'] = df['fare_amount'] / (df['passenger_count'] + 1e-8)"
   ]
  },
  {
   "cell_type": "code",
   "execution_count": 25,
   "id": "15b3e0ab",
   "metadata": {
    "execution": {
     "iopub.execute_input": "2025-08-06T12:12:08.056867Z",
     "iopub.status.busy": "2025-08-06T12:12:08.056544Z",
     "iopub.status.idle": "2025-08-06T12:12:08.060618Z",
     "shell.execute_reply": "2025-08-06T12:12:08.059698Z"
    },
    "papermill": {
     "duration": 0.01314,
     "end_time": "2025-08-06T12:12:08.062205",
     "exception": false,
     "start_time": "2025-08-06T12:12:08.049065",
     "status": "completed"
    },
    "tags": []
   },
   "outputs": [],
   "source": [
    "# import math"
   ]
  },
  {
   "cell_type": "code",
   "execution_count": 26,
   "id": "f2d58841",
   "metadata": {
    "execution": {
     "iopub.execute_input": "2025-08-06T12:12:08.076617Z",
     "iopub.status.busy": "2025-08-06T12:12:08.076286Z",
     "iopub.status.idle": "2025-08-06T12:12:08.081286Z",
     "shell.execute_reply": "2025-08-06T12:12:08.080284Z"
    },
    "papermill": {
     "duration": 0.014045,
     "end_time": "2025-08-06T12:12:08.082832",
     "exception": false,
     "start_time": "2025-08-06T12:12:08.068787",
     "status": "completed"
    },
    "tags": []
   },
   "outputs": [],
   "source": [
    "# def haversine_distance(lon1, lat1, lon2, lat2):\n",
    "#     \"\"\"\n",
    "#     Calculate the great circle distance between two points on Earth (in miles)\n",
    "#     using the Haversine formula\n",
    "\n",
    "#     Parameters:\n",
    "#     lon1, lat1, lon2, lat2 (float): Longitude and latitude coordinates\n",
    "\n",
    "#     Returns:\n",
    "#     float: Distance in miles\n",
    "#     \"\"\"\n",
    "#     # Convert decimal degrees to radians\n",
    "#     lon1, lat1, lon2, lat2 = map(radians, [lon1, lat1, lon2, lat2])\n",
    "\n",
    "#     # Haversine formula\n",
    "#     dlon = lon2 - lon1\n",
    "#     dlat = lat2 - lat1\n",
    "#     a = sin(dlat/2)**2 + cos(lat1) * cos(lat2) * sin(dlon/2)**2\n",
    "#     c = 2 * asin(sqrt(a))\n",
    "\n",
    "#     # Radius of earth in miles\n",
    "#     r = 3956\n",
    "\n",
    "#     return c * r"
   ]
  },
  {
   "cell_type": "code",
   "execution_count": 27,
   "id": "9b68e904",
   "metadata": {
    "execution": {
     "iopub.execute_input": "2025-08-06T12:12:08.097386Z",
     "iopub.status.busy": "2025-08-06T12:12:08.097047Z",
     "iopub.status.idle": "2025-08-06T12:12:08.101640Z",
     "shell.execute_reply": "2025-08-06T12:12:08.100726Z"
    },
    "papermill": {
     "duration": 0.013712,
     "end_time": "2025-08-06T12:12:08.103234",
     "exception": false,
     "start_time": "2025-08-06T12:12:08.089522",
     "status": "completed"
    },
    "tags": []
   },
   "outputs": [],
   "source": [
    "# def feature_engineering(df):\n",
    "#     \"\"\"\n",
    "#     Create new features from existing columns\n",
    "\n",
    "#     Parameters:\n",
    "#     df (pd.DataFrame): Input dataset\n",
    "\n",
    "#     Returns:\n",
    "#     pd.DataFrame: Dataset with engineered features\n",
    "#     \"\"\"\n",
    "#     print(\"🔧 Starting Feature Engineering...\")\n",
    "#     df_fe = df.copy()\n",
    "\n",
    "#     # Calculate trip distance using Haversine formula\n",
    "#     print(\"📏 Calculating trip distances...\")\n",
    "#     df_fe['trip_distance_calculated'] = df_fe.apply(\n",
    "#         lambda row: haversine_distance(\n",
    "#             row['pickup_longitude'], row['pickup_latitude'],\n",
    "#             row['dropoff_longitude'], row['dropoff_latitude']\n",
    "#         ), axis=1\n",
    "#     )\n",
    "\n",
    "#     # Extract time-based features\n",
    "#     print(\"⏰ Extracting time-based features...\")\n",
    "#     print(f\"✅ Feature engineering completed!\")\n",
    "#     print(f\"📊 New dataset shape: {df_fe.shape}\")\n",
    "\n",
    "#     return df_fe"
   ]
  },
  {
   "cell_type": "code",
   "execution_count": 28,
   "id": "3d979bf3",
   "metadata": {
    "execution": {
     "iopub.execute_input": "2025-08-06T12:12:08.117394Z",
     "iopub.status.busy": "2025-08-06T12:12:08.117084Z",
     "iopub.status.idle": "2025-08-06T12:12:08.121019Z",
     "shell.execute_reply": "2025-08-06T12:12:08.120115Z"
    },
    "papermill": {
     "duration": 0.012937,
     "end_time": "2025-08-06T12:12:08.122696",
     "exception": false,
     "start_time": "2025-08-06T12:12:08.109759",
     "status": "completed"
    },
    "tags": []
   },
   "outputs": [],
   "source": [
    "# # Uncomment to apply feature engineering\n",
    "# df_engineered = feature_engineering(df)"
   ]
  },
  {
   "cell_type": "code",
   "execution_count": null,
   "id": "a45d0b01",
   "metadata": {
    "papermill": {
     "duration": 0.006257,
     "end_time": "2025-08-06T12:12:08.135626",
     "exception": false,
     "start_time": "2025-08-06T12:12:08.129369",
     "status": "completed"
    },
    "tags": []
   },
   "outputs": [],
   "source": []
  }
 ],
 "metadata": {
  "kaggle": {
   "accelerator": "none",
   "dataSources": [
    {
     "datasetId": 8019346,
     "sourceId": 12689825,
     "sourceType": "datasetVersion"
    }
   ],
   "dockerImageVersionId": 31089,
   "isGpuEnabled": false,
   "isInternetEnabled": true,
   "language": "python",
   "sourceType": "notebook"
  },
  "kernelspec": {
   "display_name": "Python 3",
   "language": "python",
   "name": "python3"
  },
  "language_info": {
   "codemirror_mode": {
    "name": "ipython",
    "version": 3
   },
   "file_extension": ".py",
   "mimetype": "text/x-python",
   "name": "python",
   "nbconvert_exporter": "python",
   "pygments_lexer": "ipython3",
   "version": "3.11.13"
  },
  "papermill": {
   "default_parameters": {},
   "duration": 10.137298,
   "end_time": "2025-08-06T12:12:08.762153",
   "environment_variables": {},
   "exception": null,
   "input_path": "__notebook__.ipynb",
   "output_path": "__notebook__.ipynb",
   "parameters": {},
   "start_time": "2025-08-06T12:11:58.624855",
   "version": "2.6.0"
  }
 },
 "nbformat": 4,
 "nbformat_minor": 5
}
