{
  "cells": [
    {
      "cell_type": "markdown",
      "metadata": {
        "id": "view-in-github",
        "colab_type": "text"
      },
      "source": [
        "<a href=\"https://colab.research.google.com/github/VasanthPrakasam/Project--TripFare-Predicting-Urban-Taxi-Fare-with-Machine-Learning/blob/main/Feature_Engineering_TripFare_Predicting_Urban_TF_with_ML.ipynb\" target=\"_parent\"><img src=\"https://colab.research.google.com/assets/colab-badge.svg\" alt=\"Open In Colab\"/></a>"
      ]
    },
    {
      "cell_type": "markdown",
      "id": "d392fd4a-6cb2-414f-b5a8-be89517c8e2a",
      "metadata": {
        "id": "d392fd4a-6cb2-414f-b5a8-be89517c8e2a"
      },
      "source": [
        "# **Package**"
      ]
    },
    {
      "cell_type": "code",
      "execution_count": null,
      "id": "444797be-40aa-45d3-b180-b0f3dacfaa6f",
      "metadata": {
        "id": "444797be-40aa-45d3-b180-b0f3dacfaa6f",
        "outputId": "0a85e60b-4897-431c-d658-899d846c6a1a"
      },
      "outputs": [
        {
          "name": "stdout",
          "output_type": "stream",
          "text": [
            "Requirement already satisfied: kagglehub in c:\\users\\ivasa\\anaconda3\\lib\\site-packages (0.3.12)\n",
            "Requirement already satisfied: packaging in c:\\users\\ivasa\\anaconda3\\lib\\site-packages (from kagglehub) (24.2)\n",
            "Requirement already satisfied: pyyaml in c:\\users\\ivasa\\anaconda3\\lib\\site-packages (from kagglehub) (6.0.2)\n",
            "Requirement already satisfied: requests in c:\\users\\ivasa\\anaconda3\\lib\\site-packages (from kagglehub) (2.32.3)\n",
            "Requirement already satisfied: tqdm in c:\\users\\ivasa\\anaconda3\\lib\\site-packages (from kagglehub) (4.67.1)\n",
            "Requirement already satisfied: charset-normalizer<4,>=2 in c:\\users\\ivasa\\anaconda3\\lib\\site-packages (from requests->kagglehub) (3.3.2)\n",
            "Requirement already satisfied: idna<4,>=2.5 in c:\\users\\ivasa\\anaconda3\\lib\\site-packages (from requests->kagglehub) (3.7)\n",
            "Requirement already satisfied: urllib3<3,>=1.21.1 in c:\\users\\ivasa\\anaconda3\\lib\\site-packages (from requests->kagglehub) (2.3.0)\n",
            "Requirement already satisfied: certifi>=2017.4.17 in c:\\users\\ivasa\\anaconda3\\lib\\site-packages (from requests->kagglehub) (2025.8.3)\n",
            "Requirement already satisfied: colorama in c:\\users\\ivasa\\anaconda3\\lib\\site-packages (from tqdm->kagglehub) (0.4.6)\n",
            "Note: you may need to restart the kernel to use updated packages.\n"
          ]
        }
      ],
      "source": [
        "pip install kagglehub"
      ]
    },
    {
      "cell_type": "markdown",
      "id": "71165e84-be8f-4074-b783-31013f767fd5",
      "metadata": {
        "id": "71165e84-be8f-4074-b783-31013f767fd5"
      },
      "source": [
        "## Required Libraries"
      ]
    },
    {
      "cell_type": "code",
      "execution_count": null,
      "id": "336f8170-a9be-4abd-aa29-d1a0ca4c069c",
      "metadata": {
        "id": "336f8170-a9be-4abd-aa29-d1a0ca4c069c",
        "outputId": "4bdab2d1-0c16-4a35-ee60-a44ddbcbd950"
      },
      "outputs": [
        {
          "name": "stdout",
          "output_type": "stream",
          "text": [
            "✅ All libraries imported successfully!\n"
          ]
        }
      ],
      "source": [
        "# Data manipulation and analysis\n",
        "import pandas as pd\n",
        "import numpy as np\n",
        "from datetime import datetime\n",
        "import warnings\n",
        "warnings.filterwarnings('ignore')\n",
        "\n",
        "# Data visualization\n",
        "import matplotlib.pyplot as plt\n",
        "import seaborn as sns\n",
        "plt.style.use('seaborn-v0_8')\n",
        "\n",
        "# Machine learning libraries\n",
        "from sklearn.model_selection import train_test_split, GridSearchCV, RandomizedSearchCV\n",
        "from sklearn.preprocessing import StandardScaler, LabelEncoder\n",
        "from sklearn.linear_model import LinearRegression, Ridge, Lasso\n",
        "from sklearn.ensemble import RandomForestRegressor, GradientBoostingRegressor\n",
        "from sklearn.metrics import mean_squared_error, mean_absolute_error, r2_score, mean_absolute_percentage_error\n",
        "from sklearn.feature_selection import SelectKBest, f_regression, chi2\n",
        "\n",
        "# Statistical analysis\n",
        "from scipy import stats\n",
        "from scipy.stats import zscore\n",
        "\n",
        "# Distance calculation\n",
        "from math import radians, cos, sin, asin, sqrt\n",
        "\n",
        "# Model persistence\n",
        "import pickle\n",
        "\n",
        "# Streamlit (for deployment)\n",
        "import streamlit as st\n",
        "\n",
        "print(\"✅ All libraries imported successfully!\")"
      ]
    },
    {
      "cell_type": "markdown",
      "id": "a60e7fb3",
      "metadata": {
        "papermill": {
          "duration": 0.005696,
          "end_time": "2025-08-06T12:12:05.770234",
          "exception": false,
          "start_time": "2025-08-06T12:12:05.764538",
          "status": "completed"
        },
        "tags": [],
        "id": "a60e7fb3"
      },
      "source": [
        "# Load and clean"
      ]
    },
    {
      "cell_type": "code",
      "execution_count": null,
      "id": "d5501282-4652-4068-bc61-17f068b2ae68",
      "metadata": {
        "id": "d5501282-4652-4068-bc61-17f068b2ae68",
        "outputId": "c2dfce55-fdb4-4c11-db7d-f3dd11e63831"
      },
      "outputs": [
        {
          "name": "stdout",
          "output_type": "stream",
          "text": [
            "Path to dataset files: C:\\Users\\ivasa\\.cache\\kagglehub\\datasets\\ivasanthp\\tripfare-predicting-urban-taxi-fare\\versions\\1\n"
          ]
        }
      ],
      "source": [
        "import kagglehub\n",
        "import warnings\n",
        "warnings.filterwarnings(\"ignore\")\n",
        "\n",
        "# Download latest version\n",
        "path = kagglehub.dataset_download(\"ivasanthp/tripfare-predicting-urban-taxi-fare\")\n",
        "print(\"Path to dataset files:\", path)"
      ]
    },
    {
      "cell_type": "code",
      "execution_count": null,
      "id": "ff608766-9e83-40ff-b4f0-b441063a6906",
      "metadata": {
        "id": "ff608766-9e83-40ff-b4f0-b441063a6906",
        "outputId": "a76f7cdd-cdfe-4d94-8c46-2b9ab6eeacb8"
      },
      "outputs": [
        {
          "data": {
            "text/plain": [
              "['taxi_fare.csv']"
            ]
          },
          "execution_count": 36,
          "metadata": {},
          "output_type": "execute_result"
        }
      ],
      "source": [
        "import os\n",
        "os.listdir(path)"
      ]
    },
    {
      "cell_type": "code",
      "execution_count": null,
      "id": "424636c5-46b5-41e1-9387-48d9bb261b75",
      "metadata": {
        "id": "424636c5-46b5-41e1-9387-48d9bb261b75",
        "outputId": "8877a98c-3a32-4822-83e8-4f509b1efbb0"
      },
      "outputs": [
        {
          "data": {
            "text/html": [
              "<div>\n",
              "<style scoped>\n",
              "    .dataframe tbody tr th:only-of-type {\n",
              "        vertical-align: middle;\n",
              "    }\n",
              "\n",
              "    .dataframe tbody tr th {\n",
              "        vertical-align: top;\n",
              "    }\n",
              "\n",
              "    .dataframe thead th {\n",
              "        text-align: right;\n",
              "    }\n",
              "</style>\n",
              "<table border=\"1\" class=\"dataframe\">\n",
              "  <thead>\n",
              "    <tr style=\"text-align: right;\">\n",
              "      <th></th>\n",
              "      <th>VendorID</th>\n",
              "      <th>tpep_pickup_datetime</th>\n",
              "      <th>tpep_dropoff_datetime</th>\n",
              "      <th>passenger_count</th>\n",
              "      <th>pickup_longitude</th>\n",
              "      <th>pickup_latitude</th>\n",
              "      <th>RatecodeID</th>\n",
              "      <th>store_and_fwd_flag</th>\n",
              "      <th>dropoff_longitude</th>\n",
              "      <th>dropoff_latitude</th>\n",
              "      <th>payment_type</th>\n",
              "      <th>fare_amount</th>\n",
              "      <th>extra</th>\n",
              "      <th>mta_tax</th>\n",
              "      <th>tip_amount</th>\n",
              "      <th>tolls_amount</th>\n",
              "      <th>improvement_surcharge</th>\n",
              "      <th>total_amount</th>\n",
              "    </tr>\n",
              "  </thead>\n",
              "  <tbody>\n",
              "    <tr>\n",
              "      <th>0</th>\n",
              "      <td>1</td>\n",
              "      <td>2016-03-01 00:00:00</td>\n",
              "      <td>2016-03-01 00:07:55</td>\n",
              "      <td>1</td>\n",
              "      <td>-73.976746</td>\n",
              "      <td>40.765152</td>\n",
              "      <td>1</td>\n",
              "      <td>N</td>\n",
              "      <td>-74.004265</td>\n",
              "      <td>40.746128</td>\n",
              "      <td>1</td>\n",
              "      <td>9.0</td>\n",
              "      <td>0.5</td>\n",
              "      <td>0.5</td>\n",
              "      <td>2.05</td>\n",
              "      <td>0.00</td>\n",
              "      <td>0.3</td>\n",
              "      <td>12.35</td>\n",
              "    </tr>\n",
              "    <tr>\n",
              "      <th>1</th>\n",
              "      <td>1</td>\n",
              "      <td>2016-03-01 00:00:00</td>\n",
              "      <td>2016-03-01 00:11:06</td>\n",
              "      <td>1</td>\n",
              "      <td>-73.983482</td>\n",
              "      <td>40.767925</td>\n",
              "      <td>1</td>\n",
              "      <td>N</td>\n",
              "      <td>-74.005943</td>\n",
              "      <td>40.733166</td>\n",
              "      <td>1</td>\n",
              "      <td>11.0</td>\n",
              "      <td>0.5</td>\n",
              "      <td>0.5</td>\n",
              "      <td>3.05</td>\n",
              "      <td>0.00</td>\n",
              "      <td>0.3</td>\n",
              "      <td>15.35</td>\n",
              "    </tr>\n",
              "    <tr>\n",
              "      <th>2</th>\n",
              "      <td>2</td>\n",
              "      <td>2016-03-01 00:00:00</td>\n",
              "      <td>2016-03-01 00:31:06</td>\n",
              "      <td>2</td>\n",
              "      <td>-73.782021</td>\n",
              "      <td>40.644810</td>\n",
              "      <td>1</td>\n",
              "      <td>N</td>\n",
              "      <td>-73.974541</td>\n",
              "      <td>40.675770</td>\n",
              "      <td>1</td>\n",
              "      <td>54.5</td>\n",
              "      <td>0.5</td>\n",
              "      <td>0.5</td>\n",
              "      <td>8.00</td>\n",
              "      <td>0.00</td>\n",
              "      <td>0.3</td>\n",
              "      <td>63.80</td>\n",
              "    </tr>\n",
              "    <tr>\n",
              "      <th>3</th>\n",
              "      <td>2</td>\n",
              "      <td>2016-03-01 00:00:00</td>\n",
              "      <td>2016-03-01 00:00:00</td>\n",
              "      <td>3</td>\n",
              "      <td>-73.863419</td>\n",
              "      <td>40.769814</td>\n",
              "      <td>1</td>\n",
              "      <td>N</td>\n",
              "      <td>-73.969650</td>\n",
              "      <td>40.757767</td>\n",
              "      <td>1</td>\n",
              "      <td>31.5</td>\n",
              "      <td>0.0</td>\n",
              "      <td>0.5</td>\n",
              "      <td>3.78</td>\n",
              "      <td>5.54</td>\n",
              "      <td>0.3</td>\n",
              "      <td>41.62</td>\n",
              "    </tr>\n",
              "    <tr>\n",
              "      <th>4</th>\n",
              "      <td>2</td>\n",
              "      <td>2016-03-01 00:00:00</td>\n",
              "      <td>2016-03-01 00:00:00</td>\n",
              "      <td>5</td>\n",
              "      <td>-73.971741</td>\n",
              "      <td>40.792183</td>\n",
              "      <td>3</td>\n",
              "      <td>N</td>\n",
              "      <td>-74.177170</td>\n",
              "      <td>40.695053</td>\n",
              "      <td>1</td>\n",
              "      <td>98.0</td>\n",
              "      <td>0.0</td>\n",
              "      <td>0.0</td>\n",
              "      <td>0.00</td>\n",
              "      <td>15.50</td>\n",
              "      <td>0.3</td>\n",
              "      <td>113.80</td>\n",
              "    </tr>\n",
              "  </tbody>\n",
              "</table>\n",
              "</div>"
            ],
            "text/plain": [
              "   VendorID tpep_pickup_datetime tpep_dropoff_datetime  passenger_count  \\\n",
              "0         1  2016-03-01 00:00:00   2016-03-01 00:07:55                1   \n",
              "1         1  2016-03-01 00:00:00   2016-03-01 00:11:06                1   \n",
              "2         2  2016-03-01 00:00:00   2016-03-01 00:31:06                2   \n",
              "3         2  2016-03-01 00:00:00   2016-03-01 00:00:00                3   \n",
              "4         2  2016-03-01 00:00:00   2016-03-01 00:00:00                5   \n",
              "\n",
              "   pickup_longitude  pickup_latitude  RatecodeID store_and_fwd_flag  \\\n",
              "0        -73.976746        40.765152           1                  N   \n",
              "1        -73.983482        40.767925           1                  N   \n",
              "2        -73.782021        40.644810           1                  N   \n",
              "3        -73.863419        40.769814           1                  N   \n",
              "4        -73.971741        40.792183           3                  N   \n",
              "\n",
              "   dropoff_longitude  dropoff_latitude  payment_type  fare_amount  extra  \\\n",
              "0         -74.004265         40.746128             1          9.0    0.5   \n",
              "1         -74.005943         40.733166             1         11.0    0.5   \n",
              "2         -73.974541         40.675770             1         54.5    0.5   \n",
              "3         -73.969650         40.757767             1         31.5    0.0   \n",
              "4         -74.177170         40.695053             1         98.0    0.0   \n",
              "\n",
              "   mta_tax  tip_amount  tolls_amount  improvement_surcharge  total_amount  \n",
              "0      0.5        2.05          0.00                    0.3         12.35  \n",
              "1      0.5        3.05          0.00                    0.3         15.35  \n",
              "2      0.5        8.00          0.00                    0.3         63.80  \n",
              "3      0.5        3.78          5.54                    0.3         41.62  \n",
              "4      0.0        0.00         15.50                    0.3        113.80  "
            ]
          },
          "execution_count": 37,
          "metadata": {},
          "output_type": "execute_result"
        }
      ],
      "source": [
        "import pandas as pd\n",
        "data = pd.read_csv(os.path.join(path, 'taxi_fare.csv'))\n",
        "data.head()"
      ]
    },
    {
      "cell_type": "markdown",
      "id": "3cff2e1a-8569-41ac-9b58-dcc3532835d8",
      "metadata": {
        "id": "3cff2e1a-8569-41ac-9b58-dcc3532835d8"
      },
      "source": [
        "## Let's lookup for the basic information of the dataset"
      ]
    },
    {
      "cell_type": "markdown",
      "id": "e32fc094-a761-44bc-8011-94319094353e",
      "metadata": {
        "id": "e32fc094-a761-44bc-8011-94319094353e"
      },
      "source": [
        "#### Basic statistics"
      ]
    },
    {
      "cell_type": "code",
      "execution_count": null,
      "id": "f640dcd0",
      "metadata": {
        "papermill": {
          "duration": 0.165063,
          "end_time": "2025-08-06T12:12:07.268736",
          "exception": false,
          "start_time": "2025-08-06T12:12:07.103673",
          "status": "completed"
        },
        "tags": [],
        "id": "f640dcd0",
        "outputId": "02f9f9d8-9b0b-4e54-a9e0-f5638784a02e"
      },
      "outputs": [
        {
          "name": "stdout",
          "output_type": "stream",
          "text": [
            "📊 BASIC STATISTICS:\n",
            "                          count       mean        std         min        25%  \\\n",
            "VendorID               212345.0   1.708338   0.454529    1.000000   1.000000   \n",
            "passenger_count        212345.0   1.766493   1.469647    0.000000   1.000000   \n",
            "pickup_longitude       212345.0 -73.112122   7.936633 -121.933327 -73.990891   \n",
            "pickup_latitude        212345.0  40.279405   4.370714    0.000000  40.740292   \n",
            "RatecodeID             212345.0   1.034152   0.494699    1.000000   1.000000   \n",
            "dropoff_longitude      212345.0 -73.144178   7.794599 -121.933327 -73.990570   \n",
            "dropoff_latitude       212345.0  40.295648   4.293031    0.000000  40.740089   \n",
            "payment_type           212345.0   1.324943   0.478255    1.000000   1.000000   \n",
            "fare_amount            212345.0  12.665588  10.875584  -52.000000   6.500000   \n",
            "extra                  212345.0   0.048077   0.148103   -0.500000   0.000000   \n",
            "mta_tax                212345.0   0.497662   0.037436   -0.500000   0.500000   \n",
            "tip_amount             212345.0   1.809357   2.507419   -2.700000   0.000000   \n",
            "tolls_amount           212345.0   0.329049   2.028199    0.000000   0.000000   \n",
            "improvement_surcharge  212345.0   0.299637   0.014094   -0.300000   0.300000   \n",
            "total_amount           212345.0  15.649355  13.592129  -52.800000   8.300000   \n",
            "\n",
            "                             50%        75%         max  \n",
            "VendorID                2.000000   2.000000    2.000000  \n",
            "passenger_count         1.000000   2.000000    6.000000  \n",
            "pickup_longitude      -73.979469 -73.963295    0.000000  \n",
            "pickup_latitude        40.755989  40.770283   42.786934  \n",
            "RatecodeID              1.000000   1.000000   99.000000  \n",
            "dropoff_longitude     -73.978691 -73.964645    0.000000  \n",
            "dropoff_latitude       40.755508  40.767475   42.786934  \n",
            "payment_type            1.000000   2.000000    4.000000  \n",
            "fare_amount             9.500000  14.500000  819.500000  \n",
            "extra                   0.000000   0.000000    4.500000  \n",
            "mta_tax                 0.500000   0.500000    0.500000  \n",
            "tip_amount              1.350000   2.360000  218.950000  \n",
            "tolls_amount            0.000000   0.000000  661.080000  \n",
            "improvement_surcharge   0.300000   0.300000    0.300000  \n",
            "total_amount           11.620000  17.160000  832.800000  \n"
          ]
        }
      ],
      "source": [
        "print(\"📊 BASIC STATISTICS:\")\n",
        "print(data.describe().T)"
      ]
    },
    {
      "cell_type": "code",
      "execution_count": null,
      "id": "89dd0739",
      "metadata": {
        "papermill": {
          "duration": 0.033261,
          "end_time": "2025-08-06T12:12:07.307848",
          "exception": false,
          "start_time": "2025-08-06T12:12:07.274587",
          "status": "completed"
        },
        "tags": [],
        "id": "89dd0739",
        "outputId": "6221f634-868d-40ee-87b9-438a7294c176"
      },
      "outputs": [
        {
          "data": {
            "text/html": [
              "<div>\n",
              "<style scoped>\n",
              "    .dataframe tbody tr th:only-of-type {\n",
              "        vertical-align: middle;\n",
              "    }\n",
              "\n",
              "    .dataframe tbody tr th {\n",
              "        vertical-align: top;\n",
              "    }\n",
              "\n",
              "    .dataframe thead th {\n",
              "        text-align: right;\n",
              "    }\n",
              "</style>\n",
              "<table border=\"1\" class=\"dataframe\">\n",
              "  <thead>\n",
              "    <tr style=\"text-align: right;\">\n",
              "      <th></th>\n",
              "      <th>VendorID</th>\n",
              "      <th>tpep_pickup_datetime</th>\n",
              "      <th>tpep_dropoff_datetime</th>\n",
              "      <th>passenger_count</th>\n",
              "      <th>pickup_longitude</th>\n",
              "      <th>pickup_latitude</th>\n",
              "      <th>RatecodeID</th>\n",
              "      <th>store_and_fwd_flag</th>\n",
              "      <th>dropoff_longitude</th>\n",
              "      <th>dropoff_latitude</th>\n",
              "      <th>payment_type</th>\n",
              "      <th>fare_amount</th>\n",
              "      <th>extra</th>\n",
              "      <th>mta_tax</th>\n",
              "      <th>tip_amount</th>\n",
              "      <th>tolls_amount</th>\n",
              "      <th>improvement_surcharge</th>\n",
              "      <th>total_amount</th>\n",
              "    </tr>\n",
              "  </thead>\n",
              "  <tbody>\n",
              "    <tr>\n",
              "      <th>0</th>\n",
              "      <td>1</td>\n",
              "      <td>2016-03-01 00:00:00</td>\n",
              "      <td>2016-03-01 00:07:55</td>\n",
              "      <td>1</td>\n",
              "      <td>-73.976746</td>\n",
              "      <td>40.765152</td>\n",
              "      <td>1</td>\n",
              "      <td>N</td>\n",
              "      <td>-74.004265</td>\n",
              "      <td>40.746128</td>\n",
              "      <td>1</td>\n",
              "      <td>9.0</td>\n",
              "      <td>0.5</td>\n",
              "      <td>0.5</td>\n",
              "      <td>2.05</td>\n",
              "      <td>0.00</td>\n",
              "      <td>0.3</td>\n",
              "      <td>12.35</td>\n",
              "    </tr>\n",
              "    <tr>\n",
              "      <th>1</th>\n",
              "      <td>1</td>\n",
              "      <td>2016-03-01 00:00:00</td>\n",
              "      <td>2016-03-01 00:11:06</td>\n",
              "      <td>1</td>\n",
              "      <td>-73.983482</td>\n",
              "      <td>40.767925</td>\n",
              "      <td>1</td>\n",
              "      <td>N</td>\n",
              "      <td>-74.005943</td>\n",
              "      <td>40.733166</td>\n",
              "      <td>1</td>\n",
              "      <td>11.0</td>\n",
              "      <td>0.5</td>\n",
              "      <td>0.5</td>\n",
              "      <td>3.05</td>\n",
              "      <td>0.00</td>\n",
              "      <td>0.3</td>\n",
              "      <td>15.35</td>\n",
              "    </tr>\n",
              "    <tr>\n",
              "      <th>2</th>\n",
              "      <td>2</td>\n",
              "      <td>2016-03-01 00:00:00</td>\n",
              "      <td>2016-03-01 00:31:06</td>\n",
              "      <td>2</td>\n",
              "      <td>-73.782021</td>\n",
              "      <td>40.644810</td>\n",
              "      <td>1</td>\n",
              "      <td>N</td>\n",
              "      <td>-73.974541</td>\n",
              "      <td>40.675770</td>\n",
              "      <td>1</td>\n",
              "      <td>54.5</td>\n",
              "      <td>0.5</td>\n",
              "      <td>0.5</td>\n",
              "      <td>8.00</td>\n",
              "      <td>0.00</td>\n",
              "      <td>0.3</td>\n",
              "      <td>63.80</td>\n",
              "    </tr>\n",
              "    <tr>\n",
              "      <th>3</th>\n",
              "      <td>2</td>\n",
              "      <td>2016-03-01 00:00:00</td>\n",
              "      <td>2016-03-01 00:00:00</td>\n",
              "      <td>3</td>\n",
              "      <td>-73.863419</td>\n",
              "      <td>40.769814</td>\n",
              "      <td>1</td>\n",
              "      <td>N</td>\n",
              "      <td>-73.969650</td>\n",
              "      <td>40.757767</td>\n",
              "      <td>1</td>\n",
              "      <td>31.5</td>\n",
              "      <td>0.0</td>\n",
              "      <td>0.5</td>\n",
              "      <td>3.78</td>\n",
              "      <td>5.54</td>\n",
              "      <td>0.3</td>\n",
              "      <td>41.62</td>\n",
              "    </tr>\n",
              "    <tr>\n",
              "      <th>4</th>\n",
              "      <td>2</td>\n",
              "      <td>2016-03-01 00:00:00</td>\n",
              "      <td>2016-03-01 00:00:00</td>\n",
              "      <td>5</td>\n",
              "      <td>-73.971741</td>\n",
              "      <td>40.792183</td>\n",
              "      <td>3</td>\n",
              "      <td>N</td>\n",
              "      <td>-74.177170</td>\n",
              "      <td>40.695053</td>\n",
              "      <td>1</td>\n",
              "      <td>98.0</td>\n",
              "      <td>0.0</td>\n",
              "      <td>0.0</td>\n",
              "      <td>0.00</td>\n",
              "      <td>15.50</td>\n",
              "      <td>0.3</td>\n",
              "      <td>113.80</td>\n",
              "    </tr>\n",
              "  </tbody>\n",
              "</table>\n",
              "</div>"
            ],
            "text/plain": [
              "   VendorID tpep_pickup_datetime tpep_dropoff_datetime  passenger_count  \\\n",
              "0         1  2016-03-01 00:00:00   2016-03-01 00:07:55                1   \n",
              "1         1  2016-03-01 00:00:00   2016-03-01 00:11:06                1   \n",
              "2         2  2016-03-01 00:00:00   2016-03-01 00:31:06                2   \n",
              "3         2  2016-03-01 00:00:00   2016-03-01 00:00:00                3   \n",
              "4         2  2016-03-01 00:00:00   2016-03-01 00:00:00                5   \n",
              "\n",
              "   pickup_longitude  pickup_latitude  RatecodeID store_and_fwd_flag  \\\n",
              "0        -73.976746        40.765152           1                  N   \n",
              "1        -73.983482        40.767925           1                  N   \n",
              "2        -73.782021        40.644810           1                  N   \n",
              "3        -73.863419        40.769814           1                  N   \n",
              "4        -73.971741        40.792183           3                  N   \n",
              "\n",
              "   dropoff_longitude  dropoff_latitude  payment_type  fare_amount  extra  \\\n",
              "0         -74.004265         40.746128             1          9.0    0.5   \n",
              "1         -74.005943         40.733166             1         11.0    0.5   \n",
              "2         -73.974541         40.675770             1         54.5    0.5   \n",
              "3         -73.969650         40.757767             1         31.5    0.0   \n",
              "4         -74.177170         40.695053             1         98.0    0.0   \n",
              "\n",
              "   mta_tax  tip_amount  tolls_amount  improvement_surcharge  total_amount  \n",
              "0      0.5        2.05          0.00                    0.3         12.35  \n",
              "1      0.5        3.05          0.00                    0.3         15.35  \n",
              "2      0.5        8.00          0.00                    0.3         63.80  \n",
              "3      0.5        3.78          5.54                    0.3         41.62  \n",
              "4      0.0        0.00         15.50                    0.3        113.80  "
            ]
          },
          "execution_count": 39,
          "metadata": {},
          "output_type": "execute_result"
        }
      ],
      "source": [
        "# Displaying first few rows for a quick look\n",
        "data_head = data.head()\n",
        "data_head"
      ]
    },
    {
      "cell_type": "code",
      "execution_count": null,
      "id": "4e8808a8",
      "metadata": {
        "papermill": {
          "duration": 0.081968,
          "end_time": "2025-08-06T12:12:07.097909",
          "exception": false,
          "start_time": "2025-08-06T12:12:07.015941",
          "status": "completed"
        },
        "tags": [],
        "id": "4e8808a8",
        "outputId": "5e69e2ee-560c-4596-b516-a5b0c796d2b7"
      },
      "outputs": [
        {
          "name": "stdout",
          "output_type": "stream",
          "text": [
            "<class 'pandas.core.frame.DataFrame'>\n",
            "RangeIndex: 212345 entries, 0 to 212344\n",
            "Data columns (total 18 columns):\n",
            " #   Column                 Non-Null Count   Dtype  \n",
            "---  ------                 --------------   -----  \n",
            " 0   VendorID               212345 non-null  int64  \n",
            " 1   tpep_pickup_datetime   212345 non-null  object \n",
            " 2   tpep_dropoff_datetime  212345 non-null  object \n",
            " 3   passenger_count        212345 non-null  int64  \n",
            " 4   pickup_longitude       212345 non-null  float64\n",
            " 5   pickup_latitude        212345 non-null  float64\n",
            " 6   RatecodeID             212345 non-null  int64  \n",
            " 7   store_and_fwd_flag     212345 non-null  object \n",
            " 8   dropoff_longitude      212345 non-null  float64\n",
            " 9   dropoff_latitude       212345 non-null  float64\n",
            " 10  payment_type           212345 non-null  int64  \n",
            " 11  fare_amount            212345 non-null  float64\n",
            " 12  extra                  212345 non-null  float64\n",
            " 13  mta_tax                212345 non-null  float64\n",
            " 14  tip_amount             212345 non-null  float64\n",
            " 15  tolls_amount           212345 non-null  float64\n",
            " 16  improvement_surcharge  212345 non-null  float64\n",
            " 17  total_amount           212345 non-null  float64\n",
            "dtypes: float64(11), int64(4), object(3)\n",
            "memory usage: 29.2+ MB\n"
          ]
        }
      ],
      "source": [
        "data_info = data.info()\n",
        "data_info"
      ]
    },
    {
      "cell_type": "markdown",
      "id": "adbd3e37-0472-42c3-9a41-6dae9eb719c8",
      "metadata": {
        "id": "adbd3e37-0472-42c3-9a41-6dae9eb719c8"
      },
      "source": [
        "# Data Preprocessing"
      ]
    },
    {
      "cell_type": "code",
      "execution_count": null,
      "id": "ee27a367-24a9-42c5-9a9f-cc9079428576",
      "metadata": {
        "id": "ee27a367-24a9-42c5-9a9f-cc9079428576",
        "outputId": "1fb96de6-49e2-49f6-d920-b28911f5f25d"
      },
      "outputs": [
        {
          "name": "stdout",
          "output_type": "stream",
          "text": [
            "⏰ Converting pickup_datetime from UTC to EDT...\n"
          ]
        }
      ],
      "source": [
        "# Convert UTC to EDT and extract time features\n",
        "print(\"⏰ Converting pickup_datetime from UTC to EDT...\")\n",
        "data['tpep_pickup_datetime'] = pd.to_datetime(data['tpep_pickup_datetime'], utc=True)\n",
        "data['tpep_pickup_datetime'] = data['tpep_pickup_datetime'].dt.tz_convert('America/New_York')\n",
        "data['tpep_dropoff_datetime'] = pd.to_datetime(data['tpep_dropoff_datetime'], utc=True)\n",
        "data['tpep_dropoff_datetime'] = data['tpep_dropoff_datetime'].dt.tz_convert('America/New_York')"
      ]
    },
    {
      "cell_type": "code",
      "execution_count": null,
      "id": "3292bbd9",
      "metadata": {
        "papermill": {
          "duration": 0.041419,
          "end_time": "2025-08-06T12:12:07.494564",
          "exception": false,
          "start_time": "2025-08-06T12:12:07.453145",
          "status": "completed"
        },
        "tags": [],
        "id": "3292bbd9",
        "outputId": "ddda39a2-d932-4d07-ae7a-d37667e62cdf"
      },
      "outputs": [
        {
          "name": "stdout",
          "output_type": "stream",
          "text": [
            "<class 'pandas.core.frame.DataFrame'>\n",
            "RangeIndex: 212345 entries, 0 to 212344\n",
            "Data columns (total 18 columns):\n",
            " #   Column                 Non-Null Count   Dtype                           \n",
            "---  ------                 --------------   -----                           \n",
            " 0   VendorID               212345 non-null  int64                           \n",
            " 1   tpep_pickup_datetime   212345 non-null  datetime64[ns, America/New_York]\n",
            " 2   tpep_dropoff_datetime  212345 non-null  datetime64[ns, America/New_York]\n",
            " 3   passenger_count        212345 non-null  int64                           \n",
            " 4   pickup_longitude       212345 non-null  float64                         \n",
            " 5   pickup_latitude        212345 non-null  float64                         \n",
            " 6   RatecodeID             212345 non-null  int64                           \n",
            " 7   store_and_fwd_flag     212345 non-null  object                          \n",
            " 8   dropoff_longitude      212345 non-null  float64                         \n",
            " 9   dropoff_latitude       212345 non-null  float64                         \n",
            " 10  payment_type           212345 non-null  int64                           \n",
            " 11  fare_amount            212345 non-null  float64                         \n",
            " 12  extra                  212345 non-null  float64                         \n",
            " 13  mta_tax                212345 non-null  float64                         \n",
            " 14  tip_amount             212345 non-null  float64                         \n",
            " 15  tolls_amount           212345 non-null  float64                         \n",
            " 16  improvement_surcharge  212345 non-null  float64                         \n",
            " 17  total_amount           212345 non-null  float64                         \n",
            "dtypes: datetime64[ns, America/New_York](2), float64(11), int64(4), object(1)\n",
            "memory usage: 29.2+ MB\n"
          ]
        }
      ],
      "source": [
        "data.info()"
      ]
    },
    {
      "cell_type": "code",
      "execution_count": null,
      "id": "ba591922-9552-426f-ad98-4258cb05739e",
      "metadata": {
        "id": "ba591922-9552-426f-ad98-4258cb05739e",
        "outputId": "73afd2fe-14d4-4786-d7c7-7360fe79d5d6"
      },
      "outputs": [
        {
          "data": {
            "text/html": [
              "<div>\n",
              "<style scoped>\n",
              "    .dataframe tbody tr th:only-of-type {\n",
              "        vertical-align: middle;\n",
              "    }\n",
              "\n",
              "    .dataframe tbody tr th {\n",
              "        vertical-align: top;\n",
              "    }\n",
              "\n",
              "    .dataframe thead th {\n",
              "        text-align: right;\n",
              "    }\n",
              "</style>\n",
              "<table border=\"1\" class=\"dataframe\">\n",
              "  <thead>\n",
              "    <tr style=\"text-align: right;\">\n",
              "      <th></th>\n",
              "      <th>VendorID</th>\n",
              "      <th>tpep_pickup_datetime</th>\n",
              "      <th>tpep_dropoff_datetime</th>\n",
              "      <th>passenger_count</th>\n",
              "      <th>pickup_longitude</th>\n",
              "      <th>pickup_latitude</th>\n",
              "      <th>RatecodeID</th>\n",
              "      <th>store_and_fwd_flag</th>\n",
              "      <th>dropoff_longitude</th>\n",
              "      <th>dropoff_latitude</th>\n",
              "      <th>payment_type</th>\n",
              "      <th>fare_amount</th>\n",
              "      <th>extra</th>\n",
              "      <th>mta_tax</th>\n",
              "      <th>tip_amount</th>\n",
              "      <th>tolls_amount</th>\n",
              "      <th>improvement_surcharge</th>\n",
              "      <th>total_amount</th>\n",
              "    </tr>\n",
              "  </thead>\n",
              "  <tbody>\n",
              "    <tr>\n",
              "      <th>0</th>\n",
              "      <td>1</td>\n",
              "      <td>2016-02-29 19:00:00-05:00</td>\n",
              "      <td>2016-02-29 19:07:55-05:00</td>\n",
              "      <td>1</td>\n",
              "      <td>-73.976746</td>\n",
              "      <td>40.765152</td>\n",
              "      <td>1</td>\n",
              "      <td>N</td>\n",
              "      <td>-74.004265</td>\n",
              "      <td>40.746128</td>\n",
              "      <td>1</td>\n",
              "      <td>9.0</td>\n",
              "      <td>0.5</td>\n",
              "      <td>0.5</td>\n",
              "      <td>2.05</td>\n",
              "      <td>0.00</td>\n",
              "      <td>0.3</td>\n",
              "      <td>12.35</td>\n",
              "    </tr>\n",
              "    <tr>\n",
              "      <th>1</th>\n",
              "      <td>1</td>\n",
              "      <td>2016-02-29 19:00:00-05:00</td>\n",
              "      <td>2016-02-29 19:11:06-05:00</td>\n",
              "      <td>1</td>\n",
              "      <td>-73.983482</td>\n",
              "      <td>40.767925</td>\n",
              "      <td>1</td>\n",
              "      <td>N</td>\n",
              "      <td>-74.005943</td>\n",
              "      <td>40.733166</td>\n",
              "      <td>1</td>\n",
              "      <td>11.0</td>\n",
              "      <td>0.5</td>\n",
              "      <td>0.5</td>\n",
              "      <td>3.05</td>\n",
              "      <td>0.00</td>\n",
              "      <td>0.3</td>\n",
              "      <td>15.35</td>\n",
              "    </tr>\n",
              "    <tr>\n",
              "      <th>2</th>\n",
              "      <td>2</td>\n",
              "      <td>2016-02-29 19:00:00-05:00</td>\n",
              "      <td>2016-02-29 19:31:06-05:00</td>\n",
              "      <td>2</td>\n",
              "      <td>-73.782021</td>\n",
              "      <td>40.644810</td>\n",
              "      <td>1</td>\n",
              "      <td>N</td>\n",
              "      <td>-73.974541</td>\n",
              "      <td>40.675770</td>\n",
              "      <td>1</td>\n",
              "      <td>54.5</td>\n",
              "      <td>0.5</td>\n",
              "      <td>0.5</td>\n",
              "      <td>8.00</td>\n",
              "      <td>0.00</td>\n",
              "      <td>0.3</td>\n",
              "      <td>63.80</td>\n",
              "    </tr>\n",
              "    <tr>\n",
              "      <th>3</th>\n",
              "      <td>2</td>\n",
              "      <td>2016-02-29 19:00:00-05:00</td>\n",
              "      <td>2016-02-29 19:00:00-05:00</td>\n",
              "      <td>3</td>\n",
              "      <td>-73.863419</td>\n",
              "      <td>40.769814</td>\n",
              "      <td>1</td>\n",
              "      <td>N</td>\n",
              "      <td>-73.969650</td>\n",
              "      <td>40.757767</td>\n",
              "      <td>1</td>\n",
              "      <td>31.5</td>\n",
              "      <td>0.0</td>\n",
              "      <td>0.5</td>\n",
              "      <td>3.78</td>\n",
              "      <td>5.54</td>\n",
              "      <td>0.3</td>\n",
              "      <td>41.62</td>\n",
              "    </tr>\n",
              "    <tr>\n",
              "      <th>4</th>\n",
              "      <td>2</td>\n",
              "      <td>2016-02-29 19:00:00-05:00</td>\n",
              "      <td>2016-02-29 19:00:00-05:00</td>\n",
              "      <td>5</td>\n",
              "      <td>-73.971741</td>\n",
              "      <td>40.792183</td>\n",
              "      <td>3</td>\n",
              "      <td>N</td>\n",
              "      <td>-74.177170</td>\n",
              "      <td>40.695053</td>\n",
              "      <td>1</td>\n",
              "      <td>98.0</td>\n",
              "      <td>0.0</td>\n",
              "      <td>0.0</td>\n",
              "      <td>0.00</td>\n",
              "      <td>15.50</td>\n",
              "      <td>0.3</td>\n",
              "      <td>113.80</td>\n",
              "    </tr>\n",
              "  </tbody>\n",
              "</table>\n",
              "</div>"
            ],
            "text/plain": [
              "   VendorID      tpep_pickup_datetime     tpep_dropoff_datetime  \\\n",
              "0         1 2016-02-29 19:00:00-05:00 2016-02-29 19:07:55-05:00   \n",
              "1         1 2016-02-29 19:00:00-05:00 2016-02-29 19:11:06-05:00   \n",
              "2         2 2016-02-29 19:00:00-05:00 2016-02-29 19:31:06-05:00   \n",
              "3         2 2016-02-29 19:00:00-05:00 2016-02-29 19:00:00-05:00   \n",
              "4         2 2016-02-29 19:00:00-05:00 2016-02-29 19:00:00-05:00   \n",
              "\n",
              "   passenger_count  pickup_longitude  pickup_latitude  RatecodeID  \\\n",
              "0                1        -73.976746        40.765152           1   \n",
              "1                1        -73.983482        40.767925           1   \n",
              "2                2        -73.782021        40.644810           1   \n",
              "3                3        -73.863419        40.769814           1   \n",
              "4                5        -73.971741        40.792183           3   \n",
              "\n",
              "  store_and_fwd_flag  dropoff_longitude  dropoff_latitude  payment_type  \\\n",
              "0                  N         -74.004265         40.746128             1   \n",
              "1                  N         -74.005943         40.733166             1   \n",
              "2                  N         -73.974541         40.675770             1   \n",
              "3                  N         -73.969650         40.757767             1   \n",
              "4                  N         -74.177170         40.695053             1   \n",
              "\n",
              "   fare_amount  extra  mta_tax  tip_amount  tolls_amount  \\\n",
              "0          9.0    0.5      0.5        2.05          0.00   \n",
              "1         11.0    0.5      0.5        3.05          0.00   \n",
              "2         54.5    0.5      0.5        8.00          0.00   \n",
              "3         31.5    0.0      0.5        3.78          5.54   \n",
              "4         98.0    0.0      0.0        0.00         15.50   \n",
              "\n",
              "   improvement_surcharge  total_amount  \n",
              "0                    0.3         12.35  \n",
              "1                    0.3         15.35  \n",
              "2                    0.3         63.80  \n",
              "3                    0.3         41.62  \n",
              "4                    0.3        113.80  "
            ]
          },
          "execution_count": 43,
          "metadata": {},
          "output_type": "execute_result"
        }
      ],
      "source": [
        "data.head()"
      ]
    },
    {
      "cell_type": "markdown",
      "id": "64a34f89-1c9f-499c-b1a5-8d68589e1045",
      "metadata": {
        "id": "64a34f89-1c9f-499c-b1a5-8d68589e1045"
      },
      "source": [
        "## Feature Engineering\n",
        "* trip_distance_calculated: Use Haversine formula (from pickup & dropoff coordinates)\n",
        "* trip_duration_calculated:"
      ]
    },
    {
      "cell_type": "markdown",
      "id": "44fa3576-c00e-471c-bee9-e4411798fa80",
      "metadata": {
        "id": "44fa3576-c00e-471c-bee9-e4411798fa80"
      },
      "source": [
        "#### radius of the the earth\n",
        "* in miles = 3,963.1 mi\n",
        "* in km = 6,378 km"
      ]
    },
    {
      "cell_type": "code",
      "execution_count": null,
      "id": "6411dd92-73c9-41a8-bab7-b88db247b196",
      "metadata": {
        "id": "6411dd92-73c9-41a8-bab7-b88db247b196"
      },
      "outputs": [],
      "source": [
        "import math"
      ]
    },
    {
      "cell_type": "code",
      "execution_count": null,
      "id": "f1930f10-8a0a-4031-9088-e7560c2c8619",
      "metadata": {
        "id": "f1930f10-8a0a-4031-9088-e7560c2c8619"
      },
      "outputs": [],
      "source": [
        "from math import radians, sin, cos, asin, sqrt\n",
        "import pandas as pd\n",
        "\n",
        "# Haversine distance function\n",
        "def haversine_distance(lon1, lat1, lon2, lat2):\n",
        "    \"\"\"\n",
        "    Calculate the great circle distance between two points on Earth (in miles)\n",
        "    using the Haversine formula\n",
        "    \"\"\"\n",
        "    # Convert decimal degrees to radians\n",
        "    lon1, lat1, lon2, lat2 = map(radians, [lon1, lat1, lon2, lat2])\n",
        "\n",
        "    # Haversine formula\n",
        "    dlon = lon2 - lon1\n",
        "    dlat = lat2 - lat1\n",
        "    a = sin(dlat / 2) ** 2 + cos(lat1) * cos(lat2) * sin(dlon / 2) ** 2\n",
        "    c = 2 * asin(sqrt(a))\n",
        "\n",
        "    # Radius of Earth in miles\n",
        "    r = 3963\n",
        "    return c * r"
      ]
    },
    {
      "cell_type": "code",
      "execution_count": null,
      "id": "180b3b90-46bb-4d5d-9e2c-c3b7e51cbb3a",
      "metadata": {
        "id": "180b3b90-46bb-4d5d-9e2c-c3b7e51cbb3a",
        "outputId": "52383987-00e3-48d9-b836-c01fca1901c9"
      },
      "outputs": [
        {
          "name": "stdout",
          "output_type": "stream",
          "text": [
            "🔧 Starting Feature Engineering...\n",
            "📏 Calculating trip distances...\n",
            "✅ Feature engineering completed!\n",
            "📊 New dataset shape: (212345, 19)\n",
            "Index(['VendorID', 'tpep_pickup_datetime', 'tpep_dropoff_datetime',\n",
            "       'passenger_count', 'pickup_longitude', 'pickup_latitude', 'RatecodeID',\n",
            "       'store_and_fwd_flag', 'dropoff_longitude', 'dropoff_latitude',\n",
            "       'payment_type', 'fare_amount', 'extra', 'mta_tax', 'tip_amount',\n",
            "       'tolls_amount', 'improvement_surcharge', 'total_amount',\n",
            "       'trip_distance_calculated'],\n",
            "      dtype='object')\n"
          ]
        }
      ],
      "source": [
        "# Feature engineering function\n",
        "def feature_engineering(data):\n",
        "    \"\"\"\n",
        "    Create new features from existing columns\n",
        "    \"\"\"\n",
        "    print(\"🔧 Starting Feature Engineering...\")\n",
        "    data_clean = data.copy()\n",
        "\n",
        "    # Calculate trip distance using Haversine formula\n",
        "    print(\"📏 Calculating trip distances...\")\n",
        "    data_clean['trip_distance_calculated'] = data_clean.apply(\n",
        "        lambda row: haversine_distance(\n",
        "            row['pickup_longitude'], row['pickup_latitude'],\n",
        "            row['dropoff_longitude'], row['dropoff_latitude']\n",
        "        ), axis=1\n",
        "    )\n",
        "\n",
        "    print(\"✅ Feature engineering completed!\")\n",
        "    print(f\"📊 New dataset shape: {data_clean.shape}\")\n",
        "\n",
        "    return data_clean\n",
        "\n",
        "# Example usage:\n",
        "# df_engineered will have all new features\n",
        "data_engineered = feature_engineering(data)\n",
        "\n",
        "# Now use df_engineered instead of data_clean\n",
        "print(data_engineered.columns)\n",
        "\n",
        "# If you want to replace the original dataset:\n",
        "data = data_engineered.copy()\n"
      ]
    },
    {
      "cell_type": "code",
      "execution_count": null,
      "id": "527100d1",
      "metadata": {
        "papermill": {
          "duration": 0.019059,
          "end_time": "2025-08-06T12:12:07.519674",
          "exception": false,
          "start_time": "2025-08-06T12:12:07.500615",
          "status": "completed"
        },
        "tags": [],
        "id": "527100d1"
      },
      "outputs": [],
      "source": [
        "data['trip_duration_calculated'] = (data['tpep_dropoff_datetime'] - data['tpep_pickup_datetime']).dt.total_seconds() / 60"
      ]
    },
    {
      "cell_type": "code",
      "execution_count": null,
      "id": "476e6c57",
      "metadata": {
        "papermill": {
          "duration": 0.021955,
          "end_time": "2025-08-06T12:12:07.547555",
          "exception": false,
          "start_time": "2025-08-06T12:12:07.525600",
          "status": "completed"
        },
        "tags": [],
        "id": "476e6c57",
        "outputId": "13b5671f-e075-4e90-cf4a-44def24fe362"
      },
      "outputs": [
        {
          "data": {
            "text/html": [
              "<div>\n",
              "<style scoped>\n",
              "    .dataframe tbody tr th:only-of-type {\n",
              "        vertical-align: middle;\n",
              "    }\n",
              "\n",
              "    .dataframe tbody tr th {\n",
              "        vertical-align: top;\n",
              "    }\n",
              "\n",
              "    .dataframe thead th {\n",
              "        text-align: right;\n",
              "    }\n",
              "</style>\n",
              "<table border=\"1\" class=\"dataframe\">\n",
              "  <thead>\n",
              "    <tr style=\"text-align: right;\">\n",
              "      <th></th>\n",
              "      <th>tpep_pickup_datetime</th>\n",
              "      <th>tpep_dropoff_datetime</th>\n",
              "      <th>trip_distance_calculated</th>\n",
              "      <th>trip_duration_calculated</th>\n",
              "    </tr>\n",
              "  </thead>\n",
              "  <tbody>\n",
              "    <tr>\n",
              "      <th>0</th>\n",
              "      <td>2016-02-29 19:00:00-05:00</td>\n",
              "      <td>2016-02-29 19:07:55-05:00</td>\n",
              "      <td>1.952013</td>\n",
              "      <td>7.916667</td>\n",
              "    </tr>\n",
              "    <tr>\n",
              "      <th>1</th>\n",
              "      <td>2016-02-29 19:00:00-05:00</td>\n",
              "      <td>2016-02-29 19:11:06-05:00</td>\n",
              "      <td>2.676833</td>\n",
              "      <td>11.100000</td>\n",
              "    </tr>\n",
              "    <tr>\n",
              "      <th>2</th>\n",
              "      <td>2016-02-29 19:00:00-05:00</td>\n",
              "      <td>2016-02-29 19:31:06-05:00</td>\n",
              "      <td>10.325908</td>\n",
              "      <td>31.100000</td>\n",
              "    </tr>\n",
              "    <tr>\n",
              "      <th>3</th>\n",
              "      <td>2016-02-29 19:00:00-05:00</td>\n",
              "      <td>2016-02-29 19:00:00-05:00</td>\n",
              "      <td>5.627290</td>\n",
              "      <td>0.000000</td>\n",
              "    </tr>\n",
              "    <tr>\n",
              "      <th>4</th>\n",
              "      <td>2016-02-29 19:00:00-05:00</td>\n",
              "      <td>2016-02-29 19:00:00-05:00</td>\n",
              "      <td>12.689576</td>\n",
              "      <td>0.000000</td>\n",
              "    </tr>\n",
              "  </tbody>\n",
              "</table>\n",
              "</div>"
            ],
            "text/plain": [
              "       tpep_pickup_datetime     tpep_dropoff_datetime  \\\n",
              "0 2016-02-29 19:00:00-05:00 2016-02-29 19:07:55-05:00   \n",
              "1 2016-02-29 19:00:00-05:00 2016-02-29 19:11:06-05:00   \n",
              "2 2016-02-29 19:00:00-05:00 2016-02-29 19:31:06-05:00   \n",
              "3 2016-02-29 19:00:00-05:00 2016-02-29 19:00:00-05:00   \n",
              "4 2016-02-29 19:00:00-05:00 2016-02-29 19:00:00-05:00   \n",
              "\n",
              "   trip_distance_calculated  trip_duration_calculated  \n",
              "0                  1.952013                  7.916667  \n",
              "1                  2.676833                 11.100000  \n",
              "2                 10.325908                 31.100000  \n",
              "3                  5.627290                  0.000000  \n",
              "4                 12.689576                  0.000000  "
            ]
          },
          "execution_count": 48,
          "metadata": {},
          "output_type": "execute_result"
        }
      ],
      "source": [
        "# Displaying the first few rows to check the conversion and the new column\n",
        "data[['tpep_pickup_datetime', 'tpep_dropoff_datetime', 'trip_distance_calculated','trip_duration_calculated']].head()"
      ]
    },
    {
      "cell_type": "code",
      "execution_count": null,
      "id": "d7225278-4358-484f-9441-ba07332e6370",
      "metadata": {
        "id": "d7225278-4358-484f-9441-ba07332e6370",
        "outputId": "f4a33876-63e9-45e5-b31f-1af59e000975"
      },
      "outputs": [
        {
          "name": "stdout",
          "output_type": "stream",
          "text": [
            "Columns: ['VendorID', 'tpep_pickup_datetime', 'tpep_dropoff_datetime', 'passenger_count', 'pickup_longitude', 'pickup_latitude', 'RatecodeID', 'store_and_fwd_flag', 'dropoff_longitude', 'dropoff_latitude', 'payment_type', 'fare_amount', 'extra', 'mta_tax', 'tip_amount', 'tolls_amount', 'improvement_surcharge', 'total_amount', 'trip_distance_calculated', 'trip_duration_calculated']\n"
          ]
        }
      ],
      "source": [
        "print(f\"Columns: {list(data.columns)}\")"
      ]
    },
    {
      "cell_type": "code",
      "execution_count": null,
      "id": "18d793c4",
      "metadata": {
        "papermill": {
          "duration": 0.090176,
          "end_time": "2025-08-06T12:12:07.687595",
          "exception": false,
          "start_time": "2025-08-06T12:12:07.597419",
          "status": "completed"
        },
        "tags": [],
        "id": "18d793c4"
      },
      "outputs": [],
      "source": [
        "# Pickup time feature\n",
        "data['pickup_year'] = data['tpep_pickup_datetime'].dt.year\n",
        "data['pickup_month'] = data['tpep_pickup_datetime'].dt.month\n",
        "data['pickup_weekday_name'] = data['tpep_pickup_datetime'].dt.day_name()\n",
        "data['pickup_hour'] = data['tpep_pickup_datetime'].dt.hour"
      ]
    },
    {
      "cell_type": "code",
      "execution_count": null,
      "id": "3f048073",
      "metadata": {
        "papermill": {
          "duration": 0.092747,
          "end_time": "2025-08-06T12:12:07.786460",
          "exception": false,
          "start_time": "2025-08-06T12:12:07.693713",
          "status": "completed"
        },
        "tags": [],
        "id": "3f048073"
      },
      "outputs": [],
      "source": [
        "# Dropoff time features\n",
        "data['dropoff_year'] = data['tpep_dropoff_datetime'].dt.year\n",
        "data['dropoff_month'] = data['tpep_dropoff_datetime'].dt.month\n",
        "data['dropoff_weekday_name'] = data['tpep_dropoff_datetime'].dt.day_name()\n",
        "data['dropoff_hour'] = data['tpep_dropoff_datetime'].dt.hour"
      ]
    },
    {
      "cell_type": "code",
      "execution_count": null,
      "id": "8054e391-4c96-4674-a2d8-bc1ed48137ce",
      "metadata": {
        "id": "8054e391-4c96-4674-a2d8-bc1ed48137ce",
        "outputId": "a4b12fb9-ef85-44b9-f984-8285bcd3f343"
      },
      "outputs": [
        {
          "name": "stdout",
          "output_type": "stream",
          "text": [
            "Columns: ['VendorID', 'tpep_pickup_datetime', 'tpep_dropoff_datetime', 'passenger_count', 'pickup_longitude', 'pickup_latitude', 'RatecodeID', 'store_and_fwd_flag', 'dropoff_longitude', 'dropoff_latitude', 'payment_type', 'fare_amount', 'extra', 'mta_tax', 'tip_amount', 'tolls_amount', 'improvement_surcharge', 'total_amount', 'trip_distance_calculated', 'trip_duration_calculated', 'pickup_year', 'pickup_month', 'pickup_weekday_name', 'pickup_hour', 'dropoff_year', 'dropoff_month', 'dropoff_weekday_name', 'dropoff_hour']\n"
          ]
        }
      ],
      "source": [
        "print(f\"Columns: {list(data.columns)}\")"
      ]
    },
    {
      "cell_type": "code",
      "execution_count": null,
      "id": "7f3d1110-af29-4e6f-b3b9-5394a0679c3c",
      "metadata": {
        "id": "7f3d1110-af29-4e6f-b3b9-5394a0679c3c",
        "outputId": "225a6104-67ca-4655-ce5d-4e312b66b1d9"
      },
      "outputs": [
        {
          "data": {
            "text/plain": [
              "array(['Monday', 'Thursday', 'Tuesday'], dtype=object)"
            ]
          },
          "execution_count": 58,
          "metadata": {},
          "output_type": "execute_result"
        }
      ],
      "source": [
        "data['pickup_weekday_name'].unique()"
      ]
    },
    {
      "cell_type": "code",
      "execution_count": null,
      "id": "a06e0203-9c0f-4885-9311-13d0c5dbfe93",
      "metadata": {
        "id": "a06e0203-9c0f-4885-9311-13d0c5dbfe93",
        "outputId": "3def8b92-2514-47e1-ab03-0dd2cbbc7be6"
      },
      "outputs": [
        {
          "data": {
            "text/plain": [
              "5"
            ]
          },
          "execution_count": 57,
          "metadata": {},
          "output_type": "execute_result"
        }
      ],
      "source": [
        "data['dropoff_weekday_name'].nunique()"
      ]
    },
    {
      "cell_type": "markdown",
      "id": "cb64a71b-eb68-4b95-9d56-4fe0897d019c",
      "metadata": {
        "id": "cb64a71b-eb68-4b95-9d56-4fe0897d019c"
      },
      "source": [
        "### pickup_day: Extract weekday/weekend"
      ]
    },
    {
      "cell_type": "code",
      "execution_count": null,
      "id": "53003f31",
      "metadata": {
        "papermill": {
          "duration": 0.013083,
          "end_time": "2025-08-06T12:12:07.864756",
          "exception": false,
          "start_time": "2025-08-06T12:12:07.851673",
          "status": "completed"
        },
        "tags": [],
        "id": "53003f31"
      },
      "outputs": [],
      "source": [
        "# Weekend indicator\n",
        "# data['is_weekend'] = (data['pickup_weekday'] >= 5).astype(int)\n",
        "# This is will not work as the given Dataset has been available for these weekdays monday, tuesday and thursday which falls in weekdays."
      ]
    },
    {
      "cell_type": "markdown",
      "id": "5b2529e6-c00b-4f41-acec-55a66e0632ea",
      "metadata": {
        "id": "5b2529e6-c00b-4f41-acec-55a66e0632ea"
      },
      "source": [
        "### Extract am/pm"
      ]
    },
    {
      "cell_type": "code",
      "execution_count": null,
      "id": "84f6610d",
      "metadata": {
        "papermill": {
          "duration": 0.016212,
          "end_time": "2025-08-06T12:12:07.887387",
          "exception": false,
          "start_time": "2025-08-06T12:12:07.871175",
          "status": "completed"
        },
        "tags": [],
        "id": "84f6610d"
      },
      "outputs": [],
      "source": [
        "# AM/PM indicator\n",
        "data['is_pm'] = (data['pickup_hour'] >= 12).astype(int)\n",
        "data['is_pm'] = (data['dropoff_hour'] >= 12).astype(int)"
      ]
    },
    {
      "cell_type": "markdown",
      "id": "a141850e-ebaf-4d71-a372-2c2d71df327b",
      "metadata": {
        "id": "a141850e-ebaf-4d71-a372-2c2d71df327b"
      },
      "source": [
        "### is_night: Binary flag for late-night/early-morning trips"
      ]
    },
    {
      "cell_type": "code",
      "execution_count": null,
      "id": "99d735c4",
      "metadata": {
        "papermill": {
          "duration": 0.017731,
          "end_time": "2025-08-06T12:12:07.911635",
          "exception": false,
          "start_time": "2025-08-06T12:12:07.893904",
          "status": "completed"
        },
        "tags": [],
        "id": "99d735c4"
      },
      "outputs": [],
      "source": [
        "# Night ride indicator (10 PM to 6 AM)\n",
        "data['is_night'] = ((data['pickup_hour'] >= 22) | (data['pickup_hour'] <= 6)).astype(int)\n",
        "data['is_night'] = ((data['dropoff_hour'] >= 22) | (data['dropoff_hour'] <= 6)).astype(int)"
      ]
    },
    {
      "cell_type": "code",
      "execution_count": null,
      "id": "450095c1",
      "metadata": {
        "papermill": {
          "duration": 0.021463,
          "end_time": "2025-08-06T12:12:07.939530",
          "exception": false,
          "start_time": "2025-08-06T12:12:07.918067",
          "status": "completed"
        },
        "tags": [],
        "id": "450095c1"
      },
      "outputs": [],
      "source": [
        "# Rush hour indicators\n",
        "data['is_morning_rush'] = ((data['pickup_hour'] >= 7) & (data['pickup_hour'] <= 9)).astype(int)\n",
        "data['is_evening_rush'] = ((data['pickup_hour'] >= 17) & (data['pickup_hour'] <= 19)).astype(int)\n",
        "data['is_morning_rush'] = ((data['dropoff_hour'] >= 7) & (data['dropoff_hour'] <= 9)).astype(int)\n",
        "data['is_evening_rush'] = ((data['dropoff_hour'] >= 17) & (data['dropoff_hour'] <= 19)).astype(int)"
      ]
    },
    {
      "cell_type": "code",
      "execution_count": null,
      "id": "604a44cf",
      "metadata": {
        "papermill": {
          "duration": 0.013382,
          "end_time": "2025-08-06T12:12:07.980383",
          "exception": false,
          "start_time": "2025-08-06T12:12:07.967001",
          "status": "completed"
        },
        "tags": [],
        "id": "604a44cf"
      },
      "outputs": [],
      "source": [
        "# Fare per mile and fare per minute\n",
        "# data['fare_per_mile'] = data['fare_amount'] / (df['trip_distance_calculated'] + 1e-8)\n",
        "# data['fare_per_minute'] = data['fare_amount'] / (df['trip_duration_minutes'] + 1e-8)"
      ]
    },
    {
      "cell_type": "code",
      "execution_count": null,
      "id": "e4f93dd6",
      "metadata": {
        "papermill": {
          "duration": 0.013531,
          "end_time": "2025-08-06T12:12:08.000633",
          "exception": false,
          "start_time": "2025-08-06T12:12:07.987102",
          "status": "completed"
        },
        "tags": [],
        "id": "e4f93dd6"
      },
      "outputs": [],
      "source": [
        "# Speed (miles per hour)\n",
        "# data['speed_mph'] = (data['trip_distance_calculated'] * 60) / (data['trip_duration_minutes'] + 1e-8)"
      ]
    },
    {
      "cell_type": "code",
      "execution_count": null,
      "id": "dbcdffe6",
      "metadata": {
        "papermill": {
          "duration": 0.01337,
          "end_time": "2025-08-06T12:12:08.041785",
          "exception": false,
          "start_time": "2025-08-06T12:12:08.028415",
          "status": "completed"
        },
        "tags": [],
        "id": "dbcdffe6"
      },
      "outputs": [],
      "source": [
        "# Passenger density feature\n",
        "# data['fare_per_passenger'] = data['fare_amount'] / (data['passenger_count'] + 1e-8)"
      ]
    },
    {
      "cell_type": "code",
      "execution_count": null,
      "id": "beb4d74a",
      "metadata": {
        "papermill": {
          "duration": 0.014032,
          "end_time": "2025-08-06T12:12:07.567613",
          "exception": false,
          "start_time": "2025-08-06T12:12:07.553581",
          "status": "completed"
        },
        "tags": [],
        "id": "beb4d74a",
        "outputId": "24e80339-901e-4ac3-bb10-093ebadcef56"
      },
      "outputs": [
        {
          "name": "stdout",
          "output_type": "stream",
          "text": [
            "Columns: ['VendorID', 'tpep_pickup_datetime', 'tpep_dropoff_datetime', 'passenger_count', 'pickup_longitude', 'pickup_latitude', 'RatecodeID', 'store_and_fwd_flag', 'dropoff_longitude', 'dropoff_latitude', 'payment_type', 'fare_amount', 'extra', 'mta_tax', 'tip_amount', 'tolls_amount', 'improvement_surcharge', 'total_amount', 'trip_distance_calculated', 'trip_duration_calculated', 'pickup_year', 'pickup_month', 'pickup_weekday_name', 'pickup_hour', 'dropoff_year', 'dropoff_month', 'dropoff_weekday_name', 'dropoff_hour', 'is_pm', 'is_night', 'is_morning_rush', 'is_evening_rush']\n"
          ]
        }
      ],
      "source": [
        "print(f\"Columns: {list(data.columns)}\")"
      ]
    },
    {
      "cell_type": "code",
      "execution_count": null,
      "id": "c208c3f3-9ada-4a89-b62c-fd1ff86228b2",
      "metadata": {
        "id": "c208c3f3-9ada-4a89-b62c-fd1ff86228b2",
        "outputId": "8ee78f8f-a164-4ecf-ee34-2bd642b97e34"
      },
      "outputs": [
        {
          "data": {
            "text/plain": [
              "(212345, 32)"
            ]
          },
          "execution_count": 68,
          "metadata": {},
          "output_type": "execute_result"
        }
      ],
      "source": [
        "data.shape"
      ]
    },
    {
      "cell_type": "code",
      "execution_count": null,
      "id": "70d10a7b-3f99-4575-b2a5-37134e8e2076",
      "metadata": {
        "id": "70d10a7b-3f99-4575-b2a5-37134e8e2076"
      },
      "outputs": [],
      "source": [
        "data.drop(['tpep_pickup_datetime', 'tpep_dropoff_datetime','store_and_fwd_flag','fare_amount', 'extra', 'mta_tax', 'tip_amount','tolls_amount', 'improvement_surcharge'], axis=1, inplace=True)"
      ]
    },
    {
      "cell_type": "code",
      "execution_count": null,
      "id": "726c9b09",
      "metadata": {
        "papermill": {
          "duration": 0.015812,
          "end_time": "2025-08-06T12:12:07.591189",
          "exception": false,
          "start_time": "2025-08-06T12:12:07.575377",
          "status": "completed"
        },
        "tags": [],
        "id": "726c9b09",
        "outputId": "2d594b54-d759-479b-eba5-4c412b312610"
      },
      "outputs": [
        {
          "name": "stdout",
          "output_type": "stream",
          "text": [
            "🔍 DATA TYPES:\n",
            "VendorID                      int64\n",
            "passenger_count               int64\n",
            "pickup_longitude            float64\n",
            "pickup_latitude             float64\n",
            "RatecodeID                    int64\n",
            "dropoff_longitude           float64\n",
            "dropoff_latitude            float64\n",
            "payment_type                  int64\n",
            "total_amount                float64\n",
            "trip_distance_calculated    float64\n",
            "trip_duration_calculated    float64\n",
            "pickup_year                   int32\n",
            "pickup_month                  int32\n",
            "pickup_weekday_name          object\n",
            "pickup_hour                   int32\n",
            "dropoff_year                  int32\n",
            "dropoff_month                 int32\n",
            "dropoff_weekday_name         object\n",
            "dropoff_hour                  int32\n",
            "is_pm                         int64\n",
            "is_night                      int64\n",
            "is_morning_rush               int64\n",
            "is_evening_rush               int64\n",
            "dtype: object\n",
            "----------------------------------------\n",
            "(212345, 23)\n"
          ]
        }
      ],
      "source": [
        "# Data types\n",
        "print(\"🔍 DATA TYPES:\")\n",
        "print(data.dtypes)\n",
        "print(\"-\" * 40)  # separator line\n",
        "print(data.shape)"
      ]
    },
    {
      "cell_type": "code",
      "execution_count": null,
      "id": "a6b70717-82bd-42c2-b4fe-1152de9e97ec",
      "metadata": {
        "id": "a6b70717-82bd-42c2-b4fe-1152de9e97ec",
        "outputId": "7d10d85d-dfa1-485a-ff8b-33816c422889"
      },
      "outputs": [
        {
          "name": "stdout",
          "output_type": "stream",
          "text": [
            "VendorID                    0\n",
            "passenger_count             0\n",
            "pickup_longitude            0\n",
            "pickup_latitude             0\n",
            "RatecodeID                  0\n",
            "dropoff_longitude           0\n",
            "dropoff_latitude            0\n",
            "payment_type                0\n",
            "total_amount                0\n",
            "trip_distance_calculated    0\n",
            "trip_duration_calculated    0\n",
            "pickup_year                 0\n",
            "pickup_month                0\n",
            "pickup_weekday_name         0\n",
            "pickup_hour                 0\n",
            "dropoff_year                0\n",
            "dropoff_month               0\n",
            "dropoff_weekday_name        0\n",
            "dropoff_hour                0\n",
            "is_pm                       0\n",
            "is_night                    0\n",
            "is_morning_rush             0\n",
            "is_evening_rush             0\n",
            "dtype: int64\n",
            "----------------------------------------\n",
            "VendorID                    0\n",
            "passenger_count             0\n",
            "pickup_longitude            0\n",
            "pickup_latitude             0\n",
            "RatecodeID                  0\n",
            "dropoff_longitude           0\n",
            "dropoff_latitude            0\n",
            "payment_type                0\n",
            "total_amount                0\n",
            "trip_distance_calculated    0\n",
            "trip_duration_calculated    0\n",
            "pickup_year                 0\n",
            "pickup_month                0\n",
            "pickup_weekday_name         0\n",
            "pickup_hour                 0\n",
            "dropoff_year                0\n",
            "dropoff_month               0\n",
            "dropoff_weekday_name        0\n",
            "dropoff_hour                0\n",
            "is_pm                       0\n",
            "is_night                    0\n",
            "is_morning_rush             0\n",
            "is_evening_rush             0\n",
            "dtype: int64\n"
          ]
        }
      ],
      "source": [
        "print(data.isnull().sum())\n",
        "print(\"-\" * 40)  # separator line\n",
        "print(data.isna().sum())"
      ]
    },
    {
      "cell_type": "code",
      "execution_count": null,
      "id": "7ba2a3ce-824f-4b4a-9fae-771b025cd4ae",
      "metadata": {
        "id": "7ba2a3ce-824f-4b4a-9fae-771b025cd4ae",
        "outputId": "ca5391b3-7d87-4e68-d7b5-a945fee62a44"
      },
      "outputs": [
        {
          "data": {
            "text/plain": [
              "np.int64(6)"
            ]
          },
          "execution_count": 81,
          "metadata": {},
          "output_type": "execute_result"
        }
      ],
      "source": [
        "data.duplicated().sum()"
      ]
    }
  ],
  "metadata": {
    "kaggle": {
      "accelerator": "none",
      "dataSources": [
        {
          "datasetId": 8019346,
          "sourceId": 12689825,
          "sourceType": "datasetVersion"
        }
      ],
      "dockerImageVersionId": 31089,
      "isGpuEnabled": false,
      "isInternetEnabled": true,
      "language": "python",
      "sourceType": "notebook"
    },
    "kernelspec": {
      "display_name": "Python 3 (ipykernel)",
      "language": "python",
      "name": "python3"
    },
    "language_info": {
      "codemirror_mode": {
        "name": "ipython",
        "version": 3
      },
      "file_extension": ".py",
      "mimetype": "text/x-python",
      "name": "python",
      "nbconvert_exporter": "python",
      "pygments_lexer": "ipython3",
      "version": "3.13.5"
    },
    "papermill": {
      "default_parameters": {},
      "duration": 10.137298,
      "end_time": "2025-08-06T12:12:08.762153",
      "environment_variables": {},
      "exception": null,
      "input_path": "__notebook__.ipynb",
      "output_path": "__notebook__.ipynb",
      "parameters": {},
      "start_time": "2025-08-06T12:11:58.624855",
      "version": "2.6.0"
    },
    "colab": {
      "provenance": [],
      "include_colab_link": true
    }
  },
  "nbformat": 4,
  "nbformat_minor": 5
}